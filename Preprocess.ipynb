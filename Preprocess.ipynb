{
  "nbformat": 4,
  "nbformat_minor": 0,
  "metadata": {
    "colab": {
      "provenance": [],
      "toc_visible": true,
      "mount_file_id": "15LE6nO_LuRRNU_Rg9qpDTNsVmzJrLXIQ",
      "authorship_tag": "ABX9TyMLmy97yBEb7fgQyA5paOLH",
      "include_colab_link": true
    },
    "kernelspec": {
      "name": "python3",
      "display_name": "Python 3"
    },
    "language_info": {
      "name": "python"
    }
  },
  "cells": [
    {
      "cell_type": "markdown",
      "metadata": {
        "id": "view-in-github",
        "colab_type": "text"
      },
      "source": [
        "<a href=\"https://colab.research.google.com/github/NonthawatNK/PROJECT-No.-CPE-P001-2-2565/blob/main/Preprocess.ipynb\" target=\"_parent\"><img src=\"https://colab.research.google.com/assets/colab-badge.svg\" alt=\"Open In Colab\"/></a>"
      ]
    },
    {
      "cell_type": "markdown",
      "source": [
        "# Set up Spark และ PySpark"
      ],
      "metadata": {
        "id": "NBNLEu6bCspu"
      }
    },
    {
      "cell_type": "code",
      "source": [
        "!apt-get update                                                                          # อัพเดท Package ทั้งหมดใน VM ตัวนี้\n",
        "!apt-get install openjdk-8-jdk-headless -qq > /dev/null                                  # ติดตั้ง Java Development Kit (จำเป็นสำหรับการติดตั้ง Spark)\n",
        "!wget -q https://archive.apache.org/dist/spark/spark-3.1.2/spark-3.1.2-bin-hadoop2.7.tgz # ติดตั้ง Spark 3.1.2\n",
        "!tar xzvf spark-3.1.2-bin-hadoop2.7.tgz                                                  # Unzip ไฟล์ Spark 3.1.2\n",
        "!pip install -q findspark==1.3.0                                                         # ติดตั้ง Package Python สำหรับเชื่อมต่อกับ Spark "
      ],
      "metadata": {
        "id": "P1vuEeB9F3pr"
      },
      "execution_count": null,
      "outputs": []
    },
    {
      "cell_type": "code",
      "source": [
        "# Set enviroment variable ให้ Python รู้จัก Spark\n",
        "import os\n",
        "os.environ[\"JAVA_HOME\"] = \"/usr/lib/jvm/java-8-openjdk-amd64\"\n",
        "os.environ[\"SPARK_HOME\"] = \"/content/spark-3.1.2-bin-hadoop2.7\""
      ],
      "metadata": {
        "id": "AAlibzAOF_zf"
      },
      "execution_count": null,
      "outputs": []
    },
    {
      "cell_type": "code",
      "source": [
        "# ติดตั้ง PySpark ลงใน Python\n",
        "!pip install pyspark==3.1.2"
      ],
      "metadata": {
        "colab": {
          "base_uri": "https://localhost:8080/"
        },
        "id": "uVNkNHI2GBiY",
        "outputId": "aab15b3c-8943-4bac-e753-1f239f9902ca"
      },
      "execution_count": null,
      "outputs": [
        {
          "output_type": "stream",
          "name": "stdout",
          "text": [
            "Looking in indexes: https://pypi.org/simple, https://us-python.pkg.dev/colab-wheels/public/simple/\n",
            "Collecting pyspark==3.1.2\n",
            "  Downloading pyspark-3.1.2.tar.gz (212.4 MB)\n",
            "\u001b[2K     \u001b[90m━━━━━━━━━━━━━━━━━━━━━━━━━━━━━━━━━━━━━━━\u001b[0m \u001b[32m212.4/212.4 MB\u001b[0m \u001b[31m6.5 MB/s\u001b[0m eta \u001b[36m0:00:00\u001b[0m\n",
            "\u001b[?25h  Preparing metadata (setup.py) ... \u001b[?25l\u001b[?25hdone\n",
            "Collecting py4j==0.10.9\n",
            "  Downloading py4j-0.10.9-py2.py3-none-any.whl (198 kB)\n",
            "\u001b[2K     \u001b[90m━━━━━━━━━━━━━━━━━━━━━━━━━━━━━━━━━━━━━━\u001b[0m \u001b[32m198.6/198.6 KB\u001b[0m \u001b[31m26.1 MB/s\u001b[0m eta \u001b[36m0:00:00\u001b[0m\n",
            "\u001b[?25hBuilding wheels for collected packages: pyspark\n",
            "  Building wheel for pyspark (setup.py) ... \u001b[?25l\u001b[?25hdone\n",
            "  Created wheel for pyspark: filename=pyspark-3.1.2-py2.py3-none-any.whl size=212880770 sha256=929b5aa4214a91666eb18a307fa004e7daebb11312151c777692fc540f693dd4\n",
            "  Stored in directory: /root/.cache/pip/wheels/11/17/0b/53e7d10fe66ca7647d391cdba323fcf5b2f9dfcb7ebad87aa7\n",
            "Successfully built pyspark\n",
            "Installing collected packages: py4j, pyspark\n",
            "  Attempting uninstall: py4j\n",
            "    Found existing installation: py4j 0.10.9.7\n",
            "    Uninstalling py4j-0.10.9.7:\n",
            "      Successfully uninstalled py4j-0.10.9.7\n",
            "Successfully installed py4j-0.10.9 pyspark-3.1.2\n"
          ]
        }
      ]
    },
    {
      "cell_type": "code",
      "source": [
        "# สร้าง Spark Session เพิ้อใช้งาน Spark\n",
        "from pyspark.sql import SparkSession\n",
        "spark = SparkSession.builder.master(\"local[*]\").getOrCreate()"
      ],
      "metadata": {
        "id": "Qt8UEkwVGHcC"
      },
      "execution_count": null,
      "outputs": []
    },
    {
      "cell_type": "code",
      "source": [
        "import pandas as pd"
      ],
      "metadata": {
        "id": "tE8AgqZICvvO"
      },
      "execution_count": null,
      "outputs": []
    },
    {
      "cell_type": "markdown",
      "source": [
        "#คนที่เรียนจบแล้ว\n",
        "ภายในข้อมูลจะเป็นข้อมูลของคนที่เรียนจบเรียบร้อยแล้ว"
      ],
      "metadata": {
        "id": "vgn3wHsYDWJW"
      }
    },
    {
      "cell_type": "code",
      "source": [
        "fileNameGrad = \"/content/drive/MyDrive/Data/Project/school_records_grad-20220919-enc.csv\""
      ],
      "metadata": {
        "id": "xLG7KaxMDjwe"
      },
      "execution_count": null,
      "outputs": []
    },
    {
      "cell_type": "markdown",
      "source": [
        "##Load data ใส่ Spark\n",
        "\n",
        "ใช้คำสั่ง `spark.read.csv` เพื่ออ่านข้อมูลจากไฟล์ CSV\n",
        "\n",
        "Arguments:\n",
        "\n",
        "Header = True << บอกให้ Spark รู้ว่าบรรทัดแรกในไฟล์ CSV เป็น Header\n",
        "\n",
        "Inferschema = True << บอกให้ Spark พยายามเดาว่าแต่ละ column มี type เป็นอะไร [ ถ้าตั้งเป็น False, ทุก column จะถูกอ่านเป็น string (ตัวหนังสือ) ]\n",
        "\n",
        "Reference: https://spark.apache.org/docs/latest/api/python/reference/api/pyspark.sql.DataFrameReader.csv.html"
      ],
      "metadata": {
        "id": "DcpoHdkwGl_K"
      }
    },
    {
      "cell_type": "code",
      "source": [
        "dt = spark.read.csv(fileNameGrad, header = True, inferSchema = True, )"
      ],
      "metadata": {
        "id": "VO1eTQikGf1I"
      },
      "execution_count": null,
      "outputs": []
    },
    {
      "cell_type": "markdown",
      "source": [
        "## Data Profiling\n",
        "Data Profiling เป็นการทำความเข้าใจข้อมูลเบื้องต้น เพื่อที่เราจะได้รู้ว่าข้อมูลนี้มีคอลัมน์ไหนบ้าง ค่าโดยรวมเป็นอย่างไรบ้าง ฯลฯ เพื่อให้เราตัดสินใจได้ต่อว่าจะเช็คที่จุดไหนต่อไป\n"
      ],
      "metadata": {
        "id": "YxON28BREZK_"
      }
    },
    {
      "cell_type": "code",
      "source": [
        "#ดูข้อมูลภายใน จำนวน 10 รายการ\n",
        "dt.show(10)"
      ],
      "metadata": {
        "colab": {
          "base_uri": "https://localhost:8080/"
        },
        "id": "qpU_iCdiEm2C",
        "outputId": "40433591-4871-4597-c17d-b6ea120c6a2b"
      },
      "execution_count": null,
      "outputs": [
        {
          "output_type": "stream",
          "name": "stdout",
          "text": [
            "+--------------------+--------+--------+------+----+--------+-----+\n",
            "|          student_id|major_id|courseno|credit|year|semester|grade|\n",
            "+--------------------+--------+--------+------+----+--------+-----+\n",
            "|59cwLPjko9z+zL03d...|       1|    1101|     3|2559|       1|    A|\n",
            "|59cwLPjko9z+zL03d...|       1|  203162|     3|2559|       1|    C|\n",
            "|59cwLPjko9z+zL03d...|       1|  203167|     1|2559|       1|   B+|\n",
            "|59cwLPjko9z+zL03d...|       1|  206161|     3|2559|       1|    C|\n",
            "|59cwLPjko9z+zL03d...|       1|  207105|     3|2559|       1|   D+|\n",
            "|59cwLPjko9z+zL03d...|       1|  207115|     1|2559|       1|   B+|\n",
            "|59cwLPjko9z+zL03d...|       1|  259104|     3|2559|       1|   C+|\n",
            "|59cwLPjko9z+zL03d...|       1|  259106|     1|2559|       1|   C+|\n",
            "|59cwLPjko9z+zL03d...|       1|  259191|     1|2559|       1|    S|\n",
            "|59cwLPjko9z+zL03d...|       1|    1102|     3|2559|       2|    B|\n",
            "+--------------------+--------+--------+------+----+--------+-----+\n",
            "only showing top 10 rows\n",
            "\n"
          ]
        }
      ]
    },
    {
      "cell_type": "code",
      "source": [
        "# ดูประเภทข้อมูลแต่ละคอลัมน์\n",
        "dt.dtypes"
      ],
      "metadata": {
        "colab": {
          "base_uri": "https://localhost:8080/"
        },
        "id": "7Ubjrfr2EzoX",
        "outputId": "8450d2ce-36ae-4a39-fa05-ee63973c68f9"
      },
      "execution_count": null,
      "outputs": [
        {
          "output_type": "execute_result",
          "data": {
            "text/plain": [
              "[('student_id', 'string'),\n",
              " ('major_id', 'int'),\n",
              " ('courseno', 'int'),\n",
              " ('credit', 'int'),\n",
              " ('year', 'int'),\n",
              " ('semester', 'int'),\n",
              " ('grade', 'string')]"
            ]
          },
          "metadata": {},
          "execution_count": 31
        }
      ]
    },
    {
      "cell_type": "code",
      "source": [
        "# อีกคำสั่งในการดูข้อมูลแต่ละคอลัมน์ (Schema)\n",
        "dt.printSchema()"
      ],
      "metadata": {
        "colab": {
          "base_uri": "https://localhost:8080/"
        },
        "id": "NCwdy4r8FEQL",
        "outputId": "310ba964-d6a1-4f27-dbba-019b442f3c5c"
      },
      "execution_count": null,
      "outputs": [
        {
          "output_type": "stream",
          "name": "stdout",
          "text": [
            "root\n",
            " |-- student_id: string (nullable = true)\n",
            " |-- major_id: integer (nullable = true)\n",
            " |-- courseno: integer (nullable = true)\n",
            " |-- credit: integer (nullable = true)\n",
            " |-- year: integer (nullable = true)\n",
            " |-- semester: integer (nullable = true)\n",
            " |-- grade: string (nullable = true)\n",
            "\n"
          ]
        }
      ]
    },
    {
      "cell_type": "code",
      "source": [
        "# นับจำนวน row และ column\n",
        "print((dt.count(), len(dt.columns)))"
      ],
      "metadata": {
        "colab": {
          "base_uri": "https://localhost:8080/"
        },
        "id": "oSXQp2fTHZic",
        "outputId": "5e1498b8-c09b-409c-d32c-c31858f263bd"
      },
      "execution_count": null,
      "outputs": [
        {
          "output_type": "stream",
          "name": "stdout",
          "text": [
            "(119403, 7)\n"
          ]
        }
      ]
    },
    {
      "cell_type": "code",
      "source": [
        "# สรุปข้อมูลสถิติ\n",
        "dt.describe().show()"
      ],
      "metadata": {
        "colab": {
          "base_uri": "https://localhost:8080/"
        },
        "id": "3plCdprzHfqo",
        "outputId": "1db623b2-a72c-45a8-b693-8d7ecc7000dd"
      },
      "execution_count": null,
      "outputs": [
        {
          "output_type": "stream",
          "name": "stdout",
          "text": [
            "+-------+--------------------+------------------+------------------+------------------+------------------+------------------+------+\n",
            "|summary|          student_id|          major_id|          courseno|            credit|              year|          semester| grade|\n",
            "+-------+--------------------+------------------+------------------+------------------+------------------+------------------+------+\n",
            "|  count|              119403|            119403|            119403|            119403|            119403|            119403|119403|\n",
            "|   mean|                null|4.0642781169652356|242740.41836469772| 2.646030669246166|2561.3231242096094|1.5658149292731338|  null|\n",
            "| stddev|                null|2.2232662294905077| 131505.4245115261|0.8179986812208742|1.3787858484215858| 0.591557319960489|  null|\n",
            "|    min|59+KRLETpfwh/npFF...|                 1|              1101|                 1|              2559|                 1|     A|\n",
            "|    max|62XuS+TbpG5f6xYbk...|                10|            953111|                 9|              2564|                 3|     W|\n",
            "+-------+--------------------+------------------+------------------+------------------+------------------+------------------+------+\n",
            "\n"
          ]
        }
      ]
    },
    {
      "cell_type": "code",
      "source": [
        "# Colume ไหนมี missvalue บ้าง\n",
        "dt.summary(\"count\").show()\n"
      ],
      "metadata": {
        "colab": {
          "base_uri": "https://localhost:8080/"
        },
        "id": "V1W6SyXAIHH7",
        "outputId": "4793b57f-891f-4a9d-9017-d01588af6604"
      },
      "execution_count": null,
      "outputs": [
        {
          "output_type": "stream",
          "name": "stdout",
          "text": [
            "+-------+----------+--------+--------+------+------+--------+------+\n",
            "|summary|student_id|major_id|courseno|credit|  year|semester| grade|\n",
            "+-------+----------+--------+--------+------+------+--------+------+\n",
            "|  count|    119403|  119403|  119403|119403|119403|  119403|119403|\n",
            "+-------+----------+--------+--------+------+------+--------+------+\n",
            "\n"
          ]
        }
      ]
    },
    {
      "cell_type": "code",
      "source": [
        "# หาว่ามี student_id หายไปไหมและข้อมูลนั้นคืออะไร ซึ่งมันไม่มีถ้าดูข้างบนแล้ว\n",
        "dt.where(dt.student_id.isNull()).show()"
      ],
      "metadata": {
        "colab": {
          "base_uri": "https://localhost:8080/"
        },
        "id": "HfGPmuSnIiA2",
        "outputId": "3a605269-6bf5-4016-f446-71f694b18d98"
      },
      "execution_count": null,
      "outputs": [
        {
          "output_type": "stream",
          "name": "stdout",
          "text": [
            "+----------+--------+--------+------+----+--------+-----+\n",
            "|student_id|major_id|courseno|credit|year|semester|grade|\n",
            "+----------+--------+--------+------+----+--------+-----+\n",
            "+----------+--------+--------+------+----+--------+-----+\n",
            "\n"
          ]
        }
      ]
    },
    {
      "cell_type": "markdown",
      "source": [
        "#คนที่ยังเรียนไม่จบ"
      ],
      "metadata": {
        "id": "bAOxru9pDcmR"
      }
    },
    {
      "cell_type": "code",
      "source": [
        "fileNameNow = \"/content/drive/MyDrive/Data/Project/school_records-20220919-enc.csv\""
      ],
      "metadata": {
        "id": "MGZPhVJRDkLE"
      },
      "execution_count": null,
      "outputs": []
    },
    {
      "cell_type": "markdown",
      "source": [
        "##Load data ใส่ Spark\n",
        "\n",
        "ใช้คำสั่ง `spark.read.csv` เพื่ออ่านข้อมูลจากไฟล์ CSV\n",
        "\n",
        "Arguments:\n",
        "\n",
        "Header = True << บอกให้ Spark รู้ว่าบรรทัดแรกในไฟล์ CSV เป็น Header\n",
        "\n",
        "Inferschema = True << บอกให้ Spark พยายามเดาว่าแต่ละ column มี type เป็นอะไร [ ถ้าตั้งเป็น False, ทุก column จะถูกอ่านเป็น string (ตัวหนังสือ) ]\n",
        "\n",
        "Reference: https://spark.apache.org/docs/latest/api/python/reference/api/pyspark.sql.DataFrameReader.csv.html"
      ],
      "metadata": {
        "id": "CcXKTq2JNPub"
      }
    },
    {
      "cell_type": "code",
      "source": [
        "dt = spark.read.csv(fileNameNow, header = True, inferSchema = True, )"
      ],
      "metadata": {
        "id": "z8MR72xjM691"
      },
      "execution_count": null,
      "outputs": []
    },
    {
      "cell_type": "markdown",
      "source": [
        "## Data Profiling\n",
        "Data Profiling เป็นการทำความเข้าใจข้อมูลเบื้องต้น เพื่อที่เราจะได้รู้ว่าข้อมูลนี้มีคอลัมน์ไหนบ้าง ค่าโดยรวมเป็นอย่างไรบ้าง ฯลฯ เพื่อให้เราตัดสินใจได้ต่อว่าจะเช็คที่จุดไหนต่อไป\n"
      ],
      "metadata": {
        "id": "o2eH-dPTMzpB"
      }
    },
    {
      "cell_type": "code",
      "source": [
        "#ดูข้อมูลภายใน จำนวน 10 รายการ\n",
        "dt.show(10)"
      ],
      "metadata": {
        "colab": {
          "base_uri": "https://localhost:8080/"
        },
        "outputId": "9faebb76-41f9-46a9-a048-5cd324333f8e",
        "id": "LfDak5HtMzpC"
      },
      "execution_count": null,
      "outputs": [
        {
          "output_type": "stream",
          "name": "stdout",
          "text": [
            "+--------------------+--------+--------+------+----+--------+-----+\n",
            "|          student_id|major_id|courseno|credit|year|semester|grade|\n",
            "+--------------------+--------+--------+------+----+--------+-----+\n",
            "|58wpyq5YmzW41nlNi...|       2|    1101|     3|2558|       1|    B|\n",
            "|58wpyq5YmzW41nlNi...|       2|  203162|     3|2558|       1|    W|\n",
            "|58wpyq5YmzW41nlNi...|       2|  203167|     1|2558|       1|   C+|\n",
            "|58wpyq5YmzW41nlNi...|       2|  206161|     3|2558|       1|    F|\n",
            "|58wpyq5YmzW41nlNi...|       2|  207105|     3|2558|       1|    W|\n",
            "|58wpyq5YmzW41nlNi...|       2|  207115|     1|2558|       1|   C+|\n",
            "|58wpyq5YmzW41nlNi...|       2|  259104|     3|2558|       1|   C+|\n",
            "|58wpyq5YmzW41nlNi...|       2|  259109|     3|2558|       1|    C|\n",
            "|58wpyq5YmzW41nlNi...|       2|  259191|     1|2558|       1|    S|\n",
            "|58wpyq5YmzW41nlNi...|       2|    1102|     3|2558|       2|   C+|\n",
            "+--------------------+--------+--------+------+----+--------+-----+\n",
            "only showing top 10 rows\n",
            "\n"
          ]
        }
      ]
    },
    {
      "cell_type": "code",
      "source": [
        "# ดูประเภทข้อมูลแต่ละคอลัมน์\n",
        "dt.dtypes"
      ],
      "metadata": {
        "colab": {
          "base_uri": "https://localhost:8080/"
        },
        "outputId": "084a837e-7de9-4c11-c8ca-c8bbac01fdde",
        "id": "ILNOPc4kMzpC"
      },
      "execution_count": null,
      "outputs": [
        {
          "output_type": "execute_result",
          "data": {
            "text/plain": [
              "[('student_id', 'string'),\n",
              " ('major_id', 'int'),\n",
              " ('courseno', 'int'),\n",
              " ('credit', 'int'),\n",
              " ('year', 'int'),\n",
              " ('semester', 'int'),\n",
              " ('grade', 'string')]"
            ]
          },
          "metadata": {},
          "execution_count": 58
        }
      ]
    },
    {
      "cell_type": "code",
      "source": [
        "# อีกคำสั่งในการดูข้อมูลแต่ละคอลัมน์ (Schema)\n",
        "dt.printSchema()"
      ],
      "metadata": {
        "colab": {
          "base_uri": "https://localhost:8080/"
        },
        "outputId": "f2b24295-d595-4b35-ac1f-e19f5e0bd263",
        "id": "_c8jOFvQMzpC"
      },
      "execution_count": null,
      "outputs": [
        {
          "output_type": "stream",
          "name": "stdout",
          "text": [
            "root\n",
            " |-- student_id: string (nullable = true)\n",
            " |-- major_id: integer (nullable = true)\n",
            " |-- courseno: integer (nullable = true)\n",
            " |-- credit: integer (nullable = true)\n",
            " |-- year: integer (nullable = true)\n",
            " |-- semester: integer (nullable = true)\n",
            " |-- grade: string (nullable = true)\n",
            "\n"
          ]
        }
      ]
    },
    {
      "cell_type": "code",
      "source": [
        "# นับจำนวน row และ column\n",
        "print((dt.count(), len(dt.columns)))"
      ],
      "metadata": {
        "colab": {
          "base_uri": "https://localhost:8080/"
        },
        "outputId": "a5a1f3a7-1eab-4e04-d3ce-a075a35a1c41",
        "id": "Vq68kgaGMzpC"
      },
      "execution_count": null,
      "outputs": [
        {
          "output_type": "stream",
          "name": "stdout",
          "text": [
            "(99607, 7)\n"
          ]
        }
      ]
    },
    {
      "cell_type": "code",
      "source": [
        "# สรุปข้อมูลสถิติ\n",
        "dt.describe().show()"
      ],
      "metadata": {
        "colab": {
          "base_uri": "https://localhost:8080/"
        },
        "outputId": "bf6f2ebf-ec9e-40fa-8bbd-43087104bf09",
        "id": "XliCfjDIMzpD"
      },
      "execution_count": null,
      "outputs": [
        {
          "output_type": "stream",
          "name": "stdout",
          "text": [
            "+-------+--------------------+-----------------+------------------+------------------+------------------+------------------+-----+\n",
            "|summary|          student_id|         major_id|          courseno|            credit|              year|          semester|grade|\n",
            "+-------+--------------------+-----------------+------------------+------------------+------------------+------------------+-----+\n",
            "|  count|               99607|            99607|             99607|             99607|             99607|             99607|99607|\n",
            "|   mean|                null|4.112080476271748|229098.45353238226|2.5932514783097576| 2563.078990432399|1.5606935255554328| null|\n",
            "| stddev|                null|2.147603175931257|127750.67835641174|0.8192191705715658|1.0412380558312189|0.5910368955347598| null|\n",
            "|    min|581+eqTb9rGr0MpH+...|                1|              1101|                 1|              2558|                 1|    A|\n",
            "|    max|65zUfvTQhBABz/zei...|               13|            953111|                 9|              2565|                 3|    W|\n",
            "+-------+--------------------+-----------------+------------------+------------------+------------------+------------------+-----+\n",
            "\n"
          ]
        }
      ]
    },
    {
      "cell_type": "code",
      "source": [
        "# Colume ไหนมี missvalue บ้าง\n",
        "dt.summary(\"count\").show()\n"
      ],
      "metadata": {
        "colab": {
          "base_uri": "https://localhost:8080/"
        },
        "outputId": "3dcbd858-6dd0-4853-8906-076fcf853097",
        "id": "GEG8UOnwMzpD"
      },
      "execution_count": null,
      "outputs": [
        {
          "output_type": "stream",
          "name": "stdout",
          "text": [
            "+-------+----------+--------+--------+------+-----+--------+-----+\n",
            "|summary|student_id|major_id|courseno|credit| year|semester|grade|\n",
            "+-------+----------+--------+--------+------+-----+--------+-----+\n",
            "|  count|     99607|   99607|   99607| 99607|99607|   99607|99607|\n",
            "+-------+----------+--------+--------+------+-----+--------+-----+\n",
            "\n"
          ]
        }
      ]
    },
    {
      "cell_type": "code",
      "source": [
        "# หาว่ามี student_id หายไปไหมและข้อมูลนั้นคืออะไร ซึ่งมันไม่มีถ้าดูข้างบนแล้ว\n",
        "dt.where(dt.student_id.isNull()).show()"
      ],
      "metadata": {
        "colab": {
          "base_uri": "https://localhost:8080/"
        },
        "outputId": "34cd2437-e1d4-4ff1-cf96-9d07aec45f3c",
        "id": "jE9hoI9TMzpD"
      },
      "execution_count": null,
      "outputs": [
        {
          "output_type": "stream",
          "name": "stdout",
          "text": [
            "+----------+--------+--------+------+----+--------+-----+\n",
            "|student_id|major_id|courseno|credit|year|semester|grade|\n",
            "+----------+--------+--------+------+----+--------+-----+\n",
            "+----------+--------+--------+------+----+--------+-----+\n",
            "\n"
          ]
        }
      ]
    },
    {
      "cell_type": "markdown",
      "source": [
        "# คนที่จบกลางคัน"
      ],
      "metadata": {
        "id": "fIwQehkuDf9B"
      }
    },
    {
      "cell_type": "code",
      "source": [
        "fileNameOut = \"/content/drive/MyDrive/Data/Project/school_records_out-20220919-enc.csv\""
      ],
      "metadata": {
        "id": "EPPGq80YDk03"
      },
      "execution_count": null,
      "outputs": []
    },
    {
      "cell_type": "markdown",
      "source": [
        "##Load data ใส่ Spark\n",
        "\n",
        "ใช้คำสั่ง `spark.read.csv` เพื่ออ่านข้อมูลจากไฟล์ CSV\n",
        "\n",
        "Arguments:\n",
        "\n",
        "Header = True << บอกให้ Spark รู้ว่าบรรทัดแรกในไฟล์ CSV เป็น Header\n",
        "\n",
        "Inferschema = True << บอกให้ Spark พยายามเดาว่าแต่ละ column มี type เป็นอะไร [ ถ้าตั้งเป็น False, ทุก column จะถูกอ่านเป็น string (ตัวหนังสือ) ]\n",
        "\n",
        "Reference: https://spark.apache.org/docs/latest/api/python/reference/api/pyspark.sql.DataFrameReader.csv.html"
      ],
      "metadata": {
        "id": "wtsEYnbjNY5V"
      }
    },
    {
      "cell_type": "code",
      "source": [
        "dt = spark.read.csv(fileNameOut, header = True, inferSchema = True, )"
      ],
      "metadata": {
        "id": "Aa2dGypnNY5V"
      },
      "execution_count": null,
      "outputs": []
    },
    {
      "cell_type": "markdown",
      "source": [
        "## Data Profiling\n",
        "Data Profiling เป็นการทำความเข้าใจข้อมูลเบื้องต้น เพื่อที่เราจะได้รู้ว่าข้อมูลนี้มีคอลัมน์ไหนบ้าง ค่าโดยรวมเป็นอย่างไรบ้าง ฯลฯ เพื่อให้เราตัดสินใจได้ต่อว่าจะเช็คที่จุดไหนต่อไป\n"
      ],
      "metadata": {
        "id": "ThTKp7FjNbYF"
      }
    },
    {
      "cell_type": "code",
      "source": [
        "#ดูข้อมูลภายใน จำนวน 10 รายการ\n",
        "dt.show(10)"
      ],
      "metadata": {
        "colab": {
          "base_uri": "https://localhost:8080/"
        },
        "outputId": "bc57fd07-da53-4b51-ee88-baf74cf2083d",
        "id": "T54BnxYqNbYG"
      },
      "execution_count": null,
      "outputs": [
        {
          "output_type": "stream",
          "name": "stdout",
          "text": [
            "+--------------------+--------+--------+------+----+--------+-----+\n",
            "|          student_id|major_id|courseno|credit|year|semester|grade|\n",
            "+--------------------+--------+--------+------+----+--------+-----+\n",
            "|59vRvFTlxqHdPBFOk...|       1|    1101|     3|2559|       1|   D+|\n",
            "|59vRvFTlxqHdPBFOk...|       1|  203162|     3|2559|       1|    W|\n",
            "|59vRvFTlxqHdPBFOk...|       1|  203167|     1|2559|       1|   C+|\n",
            "|59vRvFTlxqHdPBFOk...|       1|  206161|     3|2559|       1|    W|\n",
            "|59vRvFTlxqHdPBFOk...|       1|  207105|     3|2559|       1|    F|\n",
            "|59vRvFTlxqHdPBFOk...|       1|  207115|     1|2559|       1|    B|\n",
            "|59vRvFTlxqHdPBFOk...|       1|  259104|     3|2559|       1|    F|\n",
            "|59vRvFTlxqHdPBFOk...|       1|  259106|     1|2559|       1|    C|\n",
            "|59vRvFTlxqHdPBFOk...|       1|  259191|     1|2559|       1|    S|\n",
            "|59vRvFTlxqHdPBFOk...|       1|    1102|     3|2559|       2|    D|\n",
            "+--------------------+--------+--------+------+----+--------+-----+\n",
            "only showing top 10 rows\n",
            "\n"
          ]
        }
      ]
    },
    {
      "cell_type": "code",
      "source": [
        "# ดูประเภทข้อมูลแต่ละคอลัมน์\n",
        "dt.dtypes"
      ],
      "metadata": {
        "colab": {
          "base_uri": "https://localhost:8080/"
        },
        "outputId": "a1017ceb-cf53-420e-f686-dba1dd6b3bad",
        "id": "e-HmulRqNbYH"
      },
      "execution_count": null,
      "outputs": [
        {
          "output_type": "execute_result",
          "data": {
            "text/plain": [
              "[('student_id', 'string'),\n",
              " ('major_id', 'int'),\n",
              " ('courseno', 'int'),\n",
              " ('credit', 'int'),\n",
              " ('year', 'int'),\n",
              " ('semester', 'int'),\n",
              " ('grade', 'string')]"
            ]
          },
          "metadata": {},
          "execution_count": 67
        }
      ]
    },
    {
      "cell_type": "code",
      "source": [
        "# อีกคำสั่งในการดูข้อมูลแต่ละคอลัมน์ (Schema)\n",
        "dt.printSchema()"
      ],
      "metadata": {
        "colab": {
          "base_uri": "https://localhost:8080/"
        },
        "outputId": "9dfba0e2-5c2a-4839-8807-80b881ce56cf",
        "id": "e1LrbeyaNbYH"
      },
      "execution_count": null,
      "outputs": [
        {
          "output_type": "stream",
          "name": "stdout",
          "text": [
            "root\n",
            " |-- student_id: string (nullable = true)\n",
            " |-- major_id: integer (nullable = true)\n",
            " |-- courseno: integer (nullable = true)\n",
            " |-- credit: integer (nullable = true)\n",
            " |-- year: integer (nullable = true)\n",
            " |-- semester: integer (nullable = true)\n",
            " |-- grade: string (nullable = true)\n",
            "\n"
          ]
        }
      ]
    },
    {
      "cell_type": "code",
      "source": [
        "# นับจำนวน row และ column\n",
        "print((dt.count(), len(dt.columns)))"
      ],
      "metadata": {
        "colab": {
          "base_uri": "https://localhost:8080/"
        },
        "outputId": "efaf7cdf-b980-4389-e476-0ad5c645f9c6",
        "id": "TT2ux78bNbYH"
      },
      "execution_count": null,
      "outputs": [
        {
          "output_type": "stream",
          "name": "stdout",
          "text": [
            "(23174, 7)\n"
          ]
        }
      ]
    },
    {
      "cell_type": "code",
      "source": [
        "# สรุปข้อมูลสถิติ\n",
        "dt.describe().show()"
      ],
      "metadata": {
        "colab": {
          "base_uri": "https://localhost:8080/"
        },
        "outputId": "ae21fc8e-2ec7-4998-cac7-ce841348b982",
        "id": "xrQUInUXNbYH"
      },
      "execution_count": null,
      "outputs": [
        {
          "output_type": "stream",
          "name": "stdout",
          "text": [
            "+-------+--------------------+------------------+------------------+------------------+------------------+------------------+-----+\n",
            "|summary|          student_id|          major_id|          courseno|            credit|              year|          semester|grade|\n",
            "+-------+--------------------+------------------+------------------+------------------+------------------+------------------+-----+\n",
            "|  count|               23174|             23174|             23174|             23174|             23174|             23174|23173|\n",
            "|   mean|                null| 4.416069733321827|221835.08975576077|2.5234314317769915| 2561.293993268318|1.4650901872788469| null|\n",
            "| stddev|                null|2.0981839415450065|132899.10335207416|0.8468027534378018|1.5055246276293417|0.5614701175845671| null|\n",
            "|    min|59+dTccijsLcBDVQJ...|                 1|              1101|                 1|              2559|                 1|    A|\n",
            "|    max|65n+gzgB9PbeTdj6n...|                12|            953111|                 4|              2565|                 3|    W|\n",
            "+-------+--------------------+------------------+------------------+------------------+------------------+------------------+-----+\n",
            "\n"
          ]
        }
      ]
    },
    {
      "cell_type": "code",
      "source": [
        "# Colume ไหนมี missvalue บ้าง\n",
        "dt.summary(\"count\").show()\n"
      ],
      "metadata": {
        "colab": {
          "base_uri": "https://localhost:8080/"
        },
        "outputId": "1dd74da8-2ff9-485d-8f62-87fae4bdef5b",
        "id": "Q-oZz_smNbYH"
      },
      "execution_count": null,
      "outputs": [
        {
          "output_type": "stream",
          "name": "stdout",
          "text": [
            "+-------+----------+--------+--------+------+-----+--------+-----+\n",
            "|summary|student_id|major_id|courseno|credit| year|semester|grade|\n",
            "+-------+----------+--------+--------+------+-----+--------+-----+\n",
            "|  count|     23174|   23174|   23174| 23174|23174|   23174|23173|\n",
            "+-------+----------+--------+--------+------+-----+--------+-----+\n",
            "\n"
          ]
        }
      ]
    },
    {
      "cell_type": "code",
      "source": [
        "# หาว่ามี student_id หายไปไหมและข้อมูลนั้นคืออะไร ซึ่งมันไม่มีถ้าดูข้างบนแล้ว\n",
        "dt.where(dt.student_id.isNull()).show()"
      ],
      "metadata": {
        "colab": {
          "base_uri": "https://localhost:8080/"
        },
        "outputId": "2b4c1460-5c45-4532-d872-29d9085feba9",
        "id": "psfMkzrzNbYI"
      },
      "execution_count": null,
      "outputs": [
        {
          "output_type": "stream",
          "name": "stdout",
          "text": [
            "+----------+--------+--------+------+----+--------+-----+\n",
            "|student_id|major_id|courseno|credit|year|semester|grade|\n",
            "+----------+--------+--------+------+----+--------+-----+\n",
            "+----------+--------+--------+------+----+--------+-----+\n",
            "\n"
          ]
        }
      ]
    },
    {
      "cell_type": "markdown",
      "source": [
        "#ทำการเพิ่ม column ทีมีชื่อว่า Item\n",
        "โดยทำการผ่าน excel ใช้คำสั่ง = ... &\"=\"& ...\n"
      ],
      "metadata": {
        "id": "cQxSbNU-_o-a"
      }
    },
    {
      "cell_type": "markdown",
      "source": [
        "หลังจากแก้ไขเพิ่มเติมใน excel แล้ว นำกลับเข้ามาทำการ Endcode "
      ],
      "metadata": {
        "id": "RykHQHx4P63o"
      }
    },
    {
      "cell_type": "markdown",
      "source": [
        "#ทำการ endcode ดังนี้"
      ],
      "metadata": {
        "id": "zPLof6orAA8n"
      }
    },
    {
      "cell_type": "code",
      "source": [
        "import pandas as pd"
      ],
      "metadata": {
        "id": "BMU0Hul-BLlk"
      },
      "execution_count": null,
      "outputs": []
    },
    {
      "cell_type": "markdown",
      "source": [
        "แก้ไขเพิ่มเติมตั้งแต่จุดนี้"
      ],
      "metadata": {
        "id": "0C20e1I3gh64"
      }
    },
    {
      "cell_type": "code",
      "source": [
        "fileName_enc = \"/content/drive/MyDrive/Data/Project/ข้อมูลเตรียมการเข้า colab/เชื่อม = /enc_excel.xlsx\"\n",
        "fileName_enc_grad = \"/content/drive/MyDrive/Data/Project/ข้อมูลเตรียมการเข้า colab/เชื่อม = /enc_grad_excel.xlsx\"\n",
        "fileName_enc_out = \"/content/drive/MyDrive/Data/Project/ข้อมูลเตรียมการเข้า colab/เชื่อม = /enc_out_excel.xlsx\""
      ],
      "metadata": {
        "id": "1P5jHMi9AHdo"
      },
      "execution_count": null,
      "outputs": []
    },
    {
      "cell_type": "code",
      "source": [
        "enc = pd.read_excel(fileName_enc)\n",
        "enc_grad = pd.read_excel(fileName_enc_grad)\n",
        "enc_out = pd.read_excel(fileName_enc_out)"
      ],
      "metadata": {
        "id": "P7ko1HCBA4iR"
      },
      "execution_count": null,
      "outputs": []
    },
    {
      "cell_type": "code",
      "source": [
        "all_in_one = pd.concat([ enc , enc_grad , enc_out ], ignore_index=True)"
      ],
      "metadata": {
        "id": "-C-GWnOewO_t"
      },
      "execution_count": null,
      "outputs": []
    },
    {
      "cell_type": "code",
      "source": [
        "all_in_one"
      ],
      "metadata": {
        "colab": {
          "base_uri": "https://localhost:8080/",
          "height": 424
        },
        "id": "Ik7_-NA2wSQp",
        "outputId": "c865fbf9-6f52-4da1-9c7c-eec7b4fbb733"
      },
      "execution_count": null,
      "outputs": [
        {
          "output_type": "execute_result",
          "data": {
            "text/plain": [
              "                       student_id  major_id  courseno  credit  year  semester  \\\n",
              "0      581+eqTb9rGr0MpH+FTqWIFQ==        10      1101       3  2558         1   \n",
              "1      581+eqTb9rGr0MpH+FTqWIFQ==        10    206161       3  2558         1   \n",
              "2      581+eqTb9rGr0MpH+FTqWIFQ==        10    207105       3  2558         1   \n",
              "3      581+eqTb9rGr0MpH+FTqWIFQ==        10    259104       3  2558         1   \n",
              "4      581+eqTb9rGr0MpH+FTqWIFQ==        10    261102       3  2558         1   \n",
              "...                           ...       ...       ...     ...   ...       ...   \n",
              "11254  64B1Usu3St8oKZyEfOtc2huQ==        10    206161       3  2564         1   \n",
              "11255  64B1Usu3St8oKZyEfOtc2huQ==        10    207105       3  2564         1   \n",
              "11256  64B1Usu3St8oKZyEfOtc2huQ==        10    259104       3  2564         1   \n",
              "11257  64B1Usu3St8oKZyEfOtc2huQ==        10    269101       3  2564         1   \n",
              "11258  64B1Usu3St8oKZyEfOtc2huQ==        10    269102       3  2564         1   \n",
              "\n",
              "      grade      Item  \n",
              "0        C+   1101=C+  \n",
              "1         W  206161=W  \n",
              "2         W  207105=W  \n",
              "3         F  259104=F  \n",
              "4         D  261102=D  \n",
              "...     ...       ...  \n",
              "11254     W  206161=W  \n",
              "11255     W  207105=W  \n",
              "11256     W  259104=W  \n",
              "11257     F  269101=F  \n",
              "11258     W  269102=W  \n",
              "\n",
              "[11259 rows x 8 columns]"
            ],
            "text/html": [
              "\n",
              "  <div id=\"df-50977e12-12ee-4dda-ba39-f3d831aeef18\">\n",
              "    <div class=\"colab-df-container\">\n",
              "      <div>\n",
              "<style scoped>\n",
              "    .dataframe tbody tr th:only-of-type {\n",
              "        vertical-align: middle;\n",
              "    }\n",
              "\n",
              "    .dataframe tbody tr th {\n",
              "        vertical-align: top;\n",
              "    }\n",
              "\n",
              "    .dataframe thead th {\n",
              "        text-align: right;\n",
              "    }\n",
              "</style>\n",
              "<table border=\"1\" class=\"dataframe\">\n",
              "  <thead>\n",
              "    <tr style=\"text-align: right;\">\n",
              "      <th></th>\n",
              "      <th>student_id</th>\n",
              "      <th>major_id</th>\n",
              "      <th>courseno</th>\n",
              "      <th>credit</th>\n",
              "      <th>year</th>\n",
              "      <th>semester</th>\n",
              "      <th>grade</th>\n",
              "      <th>Item</th>\n",
              "    </tr>\n",
              "  </thead>\n",
              "  <tbody>\n",
              "    <tr>\n",
              "      <th>0</th>\n",
              "      <td>581+eqTb9rGr0MpH+FTqWIFQ==</td>\n",
              "      <td>10</td>\n",
              "      <td>1101</td>\n",
              "      <td>3</td>\n",
              "      <td>2558</td>\n",
              "      <td>1</td>\n",
              "      <td>C+</td>\n",
              "      <td>1101=C+</td>\n",
              "    </tr>\n",
              "    <tr>\n",
              "      <th>1</th>\n",
              "      <td>581+eqTb9rGr0MpH+FTqWIFQ==</td>\n",
              "      <td>10</td>\n",
              "      <td>206161</td>\n",
              "      <td>3</td>\n",
              "      <td>2558</td>\n",
              "      <td>1</td>\n",
              "      <td>W</td>\n",
              "      <td>206161=W</td>\n",
              "    </tr>\n",
              "    <tr>\n",
              "      <th>2</th>\n",
              "      <td>581+eqTb9rGr0MpH+FTqWIFQ==</td>\n",
              "      <td>10</td>\n",
              "      <td>207105</td>\n",
              "      <td>3</td>\n",
              "      <td>2558</td>\n",
              "      <td>1</td>\n",
              "      <td>W</td>\n",
              "      <td>207105=W</td>\n",
              "    </tr>\n",
              "    <tr>\n",
              "      <th>3</th>\n",
              "      <td>581+eqTb9rGr0MpH+FTqWIFQ==</td>\n",
              "      <td>10</td>\n",
              "      <td>259104</td>\n",
              "      <td>3</td>\n",
              "      <td>2558</td>\n",
              "      <td>1</td>\n",
              "      <td>F</td>\n",
              "      <td>259104=F</td>\n",
              "    </tr>\n",
              "    <tr>\n",
              "      <th>4</th>\n",
              "      <td>581+eqTb9rGr0MpH+FTqWIFQ==</td>\n",
              "      <td>10</td>\n",
              "      <td>261102</td>\n",
              "      <td>3</td>\n",
              "      <td>2558</td>\n",
              "      <td>1</td>\n",
              "      <td>D</td>\n",
              "      <td>261102=D</td>\n",
              "    </tr>\n",
              "    <tr>\n",
              "      <th>...</th>\n",
              "      <td>...</td>\n",
              "      <td>...</td>\n",
              "      <td>...</td>\n",
              "      <td>...</td>\n",
              "      <td>...</td>\n",
              "      <td>...</td>\n",
              "      <td>...</td>\n",
              "      <td>...</td>\n",
              "    </tr>\n",
              "    <tr>\n",
              "      <th>11254</th>\n",
              "      <td>64B1Usu3St8oKZyEfOtc2huQ==</td>\n",
              "      <td>10</td>\n",
              "      <td>206161</td>\n",
              "      <td>3</td>\n",
              "      <td>2564</td>\n",
              "      <td>1</td>\n",
              "      <td>W</td>\n",
              "      <td>206161=W</td>\n",
              "    </tr>\n",
              "    <tr>\n",
              "      <th>11255</th>\n",
              "      <td>64B1Usu3St8oKZyEfOtc2huQ==</td>\n",
              "      <td>10</td>\n",
              "      <td>207105</td>\n",
              "      <td>3</td>\n",
              "      <td>2564</td>\n",
              "      <td>1</td>\n",
              "      <td>W</td>\n",
              "      <td>207105=W</td>\n",
              "    </tr>\n",
              "    <tr>\n",
              "      <th>11256</th>\n",
              "      <td>64B1Usu3St8oKZyEfOtc2huQ==</td>\n",
              "      <td>10</td>\n",
              "      <td>259104</td>\n",
              "      <td>3</td>\n",
              "      <td>2564</td>\n",
              "      <td>1</td>\n",
              "      <td>W</td>\n",
              "      <td>259104=W</td>\n",
              "    </tr>\n",
              "    <tr>\n",
              "      <th>11257</th>\n",
              "      <td>64B1Usu3St8oKZyEfOtc2huQ==</td>\n",
              "      <td>10</td>\n",
              "      <td>269101</td>\n",
              "      <td>3</td>\n",
              "      <td>2564</td>\n",
              "      <td>1</td>\n",
              "      <td>F</td>\n",
              "      <td>269101=F</td>\n",
              "    </tr>\n",
              "    <tr>\n",
              "      <th>11258</th>\n",
              "      <td>64B1Usu3St8oKZyEfOtc2huQ==</td>\n",
              "      <td>10</td>\n",
              "      <td>269102</td>\n",
              "      <td>3</td>\n",
              "      <td>2564</td>\n",
              "      <td>1</td>\n",
              "      <td>W</td>\n",
              "      <td>269102=W</td>\n",
              "    </tr>\n",
              "  </tbody>\n",
              "</table>\n",
              "<p>11259 rows × 8 columns</p>\n",
              "</div>\n",
              "      <button class=\"colab-df-convert\" onclick=\"convertToInteractive('df-50977e12-12ee-4dda-ba39-f3d831aeef18')\"\n",
              "              title=\"Convert this dataframe to an interactive table.\"\n",
              "              style=\"display:none;\">\n",
              "        \n",
              "  <svg xmlns=\"http://www.w3.org/2000/svg\" height=\"24px\"viewBox=\"0 0 24 24\"\n",
              "       width=\"24px\">\n",
              "    <path d=\"M0 0h24v24H0V0z\" fill=\"none\"/>\n",
              "    <path d=\"M18.56 5.44l.94 2.06.94-2.06 2.06-.94-2.06-.94-.94-2.06-.94 2.06-2.06.94zm-11 1L8.5 8.5l.94-2.06 2.06-.94-2.06-.94L8.5 2.5l-.94 2.06-2.06.94zm10 10l.94 2.06.94-2.06 2.06-.94-2.06-.94-.94-2.06-.94 2.06-2.06.94z\"/><path d=\"M17.41 7.96l-1.37-1.37c-.4-.4-.92-.59-1.43-.59-.52 0-1.04.2-1.43.59L10.3 9.45l-7.72 7.72c-.78.78-.78 2.05 0 2.83L4 21.41c.39.39.9.59 1.41.59.51 0 1.02-.2 1.41-.59l7.78-7.78 2.81-2.81c.8-.78.8-2.07 0-2.86zM5.41 20L4 18.59l7.72-7.72 1.47 1.35L5.41 20z\"/>\n",
              "  </svg>\n",
              "      </button>\n",
              "      \n",
              "  <style>\n",
              "    .colab-df-container {\n",
              "      display:flex;\n",
              "      flex-wrap:wrap;\n",
              "      gap: 12px;\n",
              "    }\n",
              "\n",
              "    .colab-df-convert {\n",
              "      background-color: #E8F0FE;\n",
              "      border: none;\n",
              "      border-radius: 50%;\n",
              "      cursor: pointer;\n",
              "      display: none;\n",
              "      fill: #1967D2;\n",
              "      height: 32px;\n",
              "      padding: 0 0 0 0;\n",
              "      width: 32px;\n",
              "    }\n",
              "\n",
              "    .colab-df-convert:hover {\n",
              "      background-color: #E2EBFA;\n",
              "      box-shadow: 0px 1px 2px rgba(60, 64, 67, 0.3), 0px 1px 3px 1px rgba(60, 64, 67, 0.15);\n",
              "      fill: #174EA6;\n",
              "    }\n",
              "\n",
              "    [theme=dark] .colab-df-convert {\n",
              "      background-color: #3B4455;\n",
              "      fill: #D2E3FC;\n",
              "    }\n",
              "\n",
              "    [theme=dark] .colab-df-convert:hover {\n",
              "      background-color: #434B5C;\n",
              "      box-shadow: 0px 1px 3px 1px rgba(0, 0, 0, 0.15);\n",
              "      filter: drop-shadow(0px 1px 2px rgba(0, 0, 0, 0.3));\n",
              "      fill: #FFFFFF;\n",
              "    }\n",
              "  </style>\n",
              "\n",
              "      <script>\n",
              "        const buttonEl =\n",
              "          document.querySelector('#df-50977e12-12ee-4dda-ba39-f3d831aeef18 button.colab-df-convert');\n",
              "        buttonEl.style.display =\n",
              "          google.colab.kernel.accessAllowed ? 'block' : 'none';\n",
              "\n",
              "        async function convertToInteractive(key) {\n",
              "          const element = document.querySelector('#df-50977e12-12ee-4dda-ba39-f3d831aeef18');\n",
              "          const dataTable =\n",
              "            await google.colab.kernel.invokeFunction('convertToInteractive',\n",
              "                                                     [key], {});\n",
              "          if (!dataTable) return;\n",
              "\n",
              "          const docLinkHtml = 'Like what you see? Visit the ' +\n",
              "            '<a target=\"_blank\" href=https://colab.research.google.com/notebooks/data_table.ipynb>data table notebook</a>'\n",
              "            + ' to learn more about interactive tables.';\n",
              "          element.innerHTML = '';\n",
              "          dataTable['output_type'] = 'display_data';\n",
              "          await google.colab.output.renderOutput(dataTable, element);\n",
              "          const docLink = document.createElement('div');\n",
              "          docLink.innerHTML = docLinkHtml;\n",
              "          element.appendChild(docLink);\n",
              "        }\n",
              "      </script>\n",
              "    </div>\n",
              "  </div>\n",
              "  "
            ]
          },
          "metadata": {},
          "execution_count": 29
        }
      ]
    },
    {
      "cell_type": "code",
      "source": [
        "df_replace= all_in_one.replace(['A','B+','B','C+','C','D+','D','W','F'],[1,1,1,1,1,1,1,1,1])\n",
        "df_pivot_enc_all = pd.pivot_table(df_replace, \n",
        "                            index = ['student_id'],\n",
        "                            columns=['Item'], \n",
        "                            values='grade',\n",
        "                            fill_value=0).reset_index()"
      ],
      "metadata": {
        "id": "tr5-_-uewUIP"
      },
      "execution_count": null,
      "outputs": []
    },
    {
      "cell_type": "code",
      "source": [
        "df_pivot_enc_all"
      ],
      "metadata": {
        "colab": {
          "base_uri": "https://localhost:8080/",
          "height": 488
        },
        "id": "MFXhiE6DwUfS",
        "outputId": "32807776-d89f-4d69-cba4-2b13142c5faf"
      },
      "execution_count": null,
      "outputs": [
        {
          "output_type": "execute_result",
          "data": {
            "text/plain": [
              "Item                  student_id  100305=A  103262=A  103262=B  103271=A  \\\n",
              "0     56++2rWA5Isa6ZYtknFMIpyQ==         1         0         0         0   \n",
              "1     56+UrswImydV8rhPHLuyxjSA==         0         0         0         0   \n",
              "2     561hXdjImKhE+6v+/wiRVqNQ==         0         0         0         1   \n",
              "3     562ELeGlGMYpSSNXaE7H3BPg==         0         0         0         0   \n",
              "4     563PxlSxnbUcP+vTRyeXCRlA==         0         0         0         0   \n",
              "..                           ...       ...       ...       ...       ...   \n",
              "314   65f2sMSLvvknoFXnAhOo0Jtg==         0         0         0         0   \n",
              "315   65kRNijACrZVCP0B5jw0N1zA==         0         0         0         0   \n",
              "316   65tspkxy+hX2mSIulyMGS8NQ==         0         0         0         0   \n",
              "317   65ttpClQbHTAaEXHZbRBEY6g==         0         0         0         0   \n",
              "318   65xVDGa0cUKpbYBxzqFGWvoA==         0         0         0         0   \n",
              "\n",
              "Item  103271=B  103271=B+  103271=C  103271=C+  103271=D  ...  951100=B  \\\n",
              "0            0          0         0          0         0  ...         0   \n",
              "1            0          1         0          0         0  ...         0   \n",
              "2            0          0         0          0         0  ...         0   \n",
              "3            0          0         0          0         0  ...         0   \n",
              "4            0          0         0          0         0  ...         0   \n",
              "..         ...        ...       ...        ...       ...  ...       ...   \n",
              "314          0          0         0          0         0  ...         0   \n",
              "315          0          0         0          0         0  ...         0   \n",
              "316          0          0         0          0         0  ...         0   \n",
              "317          0          0         0          0         0  ...         0   \n",
              "318          0          0         0          0         0  ...         0   \n",
              "\n",
              "Item  951100=B+  951100=C+  951100=W  953111=A  953111=B  953111=B+  \\\n",
              "0             0          0         0         0         0          0   \n",
              "1             0          0         0         0         0          0   \n",
              "2             0          0         0         1         0          0   \n",
              "3             0          0         0         0         0          0   \n",
              "4             0          0         0         0         0          0   \n",
              "..          ...        ...       ...       ...       ...        ...   \n",
              "314           0          0         0         0         0          0   \n",
              "315           0          0         0         0         0          0   \n",
              "316           0          0         0         0         0          0   \n",
              "317           0          0         0         0         0          0   \n",
              "318           0          0         0         0         0          0   \n",
              "\n",
              "Item  953111=C+  953111=D+  953111=W  \n",
              "0             0          0         0  \n",
              "1             0          0         0  \n",
              "2             0          0         0  \n",
              "3             0          0         0  \n",
              "4             0          0         0  \n",
              "..          ...        ...       ...  \n",
              "314           0          0         0  \n",
              "315           0          0         0  \n",
              "316           0          0         0  \n",
              "317           0          0         0  \n",
              "318           0          0         0  \n",
              "\n",
              "[319 rows x 864 columns]"
            ],
            "text/html": [
              "\n",
              "  <div id=\"df-ddfbf663-ec1b-441f-9fde-601777b5df62\">\n",
              "    <div class=\"colab-df-container\">\n",
              "      <div>\n",
              "<style scoped>\n",
              "    .dataframe tbody tr th:only-of-type {\n",
              "        vertical-align: middle;\n",
              "    }\n",
              "\n",
              "    .dataframe tbody tr th {\n",
              "        vertical-align: top;\n",
              "    }\n",
              "\n",
              "    .dataframe thead th {\n",
              "        text-align: right;\n",
              "    }\n",
              "</style>\n",
              "<table border=\"1\" class=\"dataframe\">\n",
              "  <thead>\n",
              "    <tr style=\"text-align: right;\">\n",
              "      <th>Item</th>\n",
              "      <th>student_id</th>\n",
              "      <th>100305=A</th>\n",
              "      <th>103262=A</th>\n",
              "      <th>103262=B</th>\n",
              "      <th>103271=A</th>\n",
              "      <th>103271=B</th>\n",
              "      <th>103271=B+</th>\n",
              "      <th>103271=C</th>\n",
              "      <th>103271=C+</th>\n",
              "      <th>103271=D</th>\n",
              "      <th>...</th>\n",
              "      <th>951100=B</th>\n",
              "      <th>951100=B+</th>\n",
              "      <th>951100=C+</th>\n",
              "      <th>951100=W</th>\n",
              "      <th>953111=A</th>\n",
              "      <th>953111=B</th>\n",
              "      <th>953111=B+</th>\n",
              "      <th>953111=C+</th>\n",
              "      <th>953111=D+</th>\n",
              "      <th>953111=W</th>\n",
              "    </tr>\n",
              "  </thead>\n",
              "  <tbody>\n",
              "    <tr>\n",
              "      <th>0</th>\n",
              "      <td>56++2rWA5Isa6ZYtknFMIpyQ==</td>\n",
              "      <td>1</td>\n",
              "      <td>0</td>\n",
              "      <td>0</td>\n",
              "      <td>0</td>\n",
              "      <td>0</td>\n",
              "      <td>0</td>\n",
              "      <td>0</td>\n",
              "      <td>0</td>\n",
              "      <td>0</td>\n",
              "      <td>...</td>\n",
              "      <td>0</td>\n",
              "      <td>0</td>\n",
              "      <td>0</td>\n",
              "      <td>0</td>\n",
              "      <td>0</td>\n",
              "      <td>0</td>\n",
              "      <td>0</td>\n",
              "      <td>0</td>\n",
              "      <td>0</td>\n",
              "      <td>0</td>\n",
              "    </tr>\n",
              "    <tr>\n",
              "      <th>1</th>\n",
              "      <td>56+UrswImydV8rhPHLuyxjSA==</td>\n",
              "      <td>0</td>\n",
              "      <td>0</td>\n",
              "      <td>0</td>\n",
              "      <td>0</td>\n",
              "      <td>0</td>\n",
              "      <td>1</td>\n",
              "      <td>0</td>\n",
              "      <td>0</td>\n",
              "      <td>0</td>\n",
              "      <td>...</td>\n",
              "      <td>0</td>\n",
              "      <td>0</td>\n",
              "      <td>0</td>\n",
              "      <td>0</td>\n",
              "      <td>0</td>\n",
              "      <td>0</td>\n",
              "      <td>0</td>\n",
              "      <td>0</td>\n",
              "      <td>0</td>\n",
              "      <td>0</td>\n",
              "    </tr>\n",
              "    <tr>\n",
              "      <th>2</th>\n",
              "      <td>561hXdjImKhE+6v+/wiRVqNQ==</td>\n",
              "      <td>0</td>\n",
              "      <td>0</td>\n",
              "      <td>0</td>\n",
              "      <td>1</td>\n",
              "      <td>0</td>\n",
              "      <td>0</td>\n",
              "      <td>0</td>\n",
              "      <td>0</td>\n",
              "      <td>0</td>\n",
              "      <td>...</td>\n",
              "      <td>0</td>\n",
              "      <td>0</td>\n",
              "      <td>0</td>\n",
              "      <td>0</td>\n",
              "      <td>1</td>\n",
              "      <td>0</td>\n",
              "      <td>0</td>\n",
              "      <td>0</td>\n",
              "      <td>0</td>\n",
              "      <td>0</td>\n",
              "    </tr>\n",
              "    <tr>\n",
              "      <th>3</th>\n",
              "      <td>562ELeGlGMYpSSNXaE7H3BPg==</td>\n",
              "      <td>0</td>\n",
              "      <td>0</td>\n",
              "      <td>0</td>\n",
              "      <td>0</td>\n",
              "      <td>0</td>\n",
              "      <td>0</td>\n",
              "      <td>0</td>\n",
              "      <td>0</td>\n",
              "      <td>0</td>\n",
              "      <td>...</td>\n",
              "      <td>0</td>\n",
              "      <td>0</td>\n",
              "      <td>0</td>\n",
              "      <td>0</td>\n",
              "      <td>0</td>\n",
              "      <td>0</td>\n",
              "      <td>0</td>\n",
              "      <td>0</td>\n",
              "      <td>0</td>\n",
              "      <td>0</td>\n",
              "    </tr>\n",
              "    <tr>\n",
              "      <th>4</th>\n",
              "      <td>563PxlSxnbUcP+vTRyeXCRlA==</td>\n",
              "      <td>0</td>\n",
              "      <td>0</td>\n",
              "      <td>0</td>\n",
              "      <td>0</td>\n",
              "      <td>0</td>\n",
              "      <td>0</td>\n",
              "      <td>0</td>\n",
              "      <td>0</td>\n",
              "      <td>0</td>\n",
              "      <td>...</td>\n",
              "      <td>0</td>\n",
              "      <td>0</td>\n",
              "      <td>0</td>\n",
              "      <td>0</td>\n",
              "      <td>0</td>\n",
              "      <td>0</td>\n",
              "      <td>0</td>\n",
              "      <td>0</td>\n",
              "      <td>0</td>\n",
              "      <td>0</td>\n",
              "    </tr>\n",
              "    <tr>\n",
              "      <th>...</th>\n",
              "      <td>...</td>\n",
              "      <td>...</td>\n",
              "      <td>...</td>\n",
              "      <td>...</td>\n",
              "      <td>...</td>\n",
              "      <td>...</td>\n",
              "      <td>...</td>\n",
              "      <td>...</td>\n",
              "      <td>...</td>\n",
              "      <td>...</td>\n",
              "      <td>...</td>\n",
              "      <td>...</td>\n",
              "      <td>...</td>\n",
              "      <td>...</td>\n",
              "      <td>...</td>\n",
              "      <td>...</td>\n",
              "      <td>...</td>\n",
              "      <td>...</td>\n",
              "      <td>...</td>\n",
              "      <td>...</td>\n",
              "      <td>...</td>\n",
              "    </tr>\n",
              "    <tr>\n",
              "      <th>314</th>\n",
              "      <td>65f2sMSLvvknoFXnAhOo0Jtg==</td>\n",
              "      <td>0</td>\n",
              "      <td>0</td>\n",
              "      <td>0</td>\n",
              "      <td>0</td>\n",
              "      <td>0</td>\n",
              "      <td>0</td>\n",
              "      <td>0</td>\n",
              "      <td>0</td>\n",
              "      <td>0</td>\n",
              "      <td>...</td>\n",
              "      <td>0</td>\n",
              "      <td>0</td>\n",
              "      <td>0</td>\n",
              "      <td>0</td>\n",
              "      <td>0</td>\n",
              "      <td>0</td>\n",
              "      <td>0</td>\n",
              "      <td>0</td>\n",
              "      <td>0</td>\n",
              "      <td>0</td>\n",
              "    </tr>\n",
              "    <tr>\n",
              "      <th>315</th>\n",
              "      <td>65kRNijACrZVCP0B5jw0N1zA==</td>\n",
              "      <td>0</td>\n",
              "      <td>0</td>\n",
              "      <td>0</td>\n",
              "      <td>0</td>\n",
              "      <td>0</td>\n",
              "      <td>0</td>\n",
              "      <td>0</td>\n",
              "      <td>0</td>\n",
              "      <td>0</td>\n",
              "      <td>...</td>\n",
              "      <td>0</td>\n",
              "      <td>0</td>\n",
              "      <td>0</td>\n",
              "      <td>0</td>\n",
              "      <td>0</td>\n",
              "      <td>0</td>\n",
              "      <td>0</td>\n",
              "      <td>0</td>\n",
              "      <td>0</td>\n",
              "      <td>0</td>\n",
              "    </tr>\n",
              "    <tr>\n",
              "      <th>316</th>\n",
              "      <td>65tspkxy+hX2mSIulyMGS8NQ==</td>\n",
              "      <td>0</td>\n",
              "      <td>0</td>\n",
              "      <td>0</td>\n",
              "      <td>0</td>\n",
              "      <td>0</td>\n",
              "      <td>0</td>\n",
              "      <td>0</td>\n",
              "      <td>0</td>\n",
              "      <td>0</td>\n",
              "      <td>...</td>\n",
              "      <td>0</td>\n",
              "      <td>0</td>\n",
              "      <td>0</td>\n",
              "      <td>0</td>\n",
              "      <td>0</td>\n",
              "      <td>0</td>\n",
              "      <td>0</td>\n",
              "      <td>0</td>\n",
              "      <td>0</td>\n",
              "      <td>0</td>\n",
              "    </tr>\n",
              "    <tr>\n",
              "      <th>317</th>\n",
              "      <td>65ttpClQbHTAaEXHZbRBEY6g==</td>\n",
              "      <td>0</td>\n",
              "      <td>0</td>\n",
              "      <td>0</td>\n",
              "      <td>0</td>\n",
              "      <td>0</td>\n",
              "      <td>0</td>\n",
              "      <td>0</td>\n",
              "      <td>0</td>\n",
              "      <td>0</td>\n",
              "      <td>...</td>\n",
              "      <td>0</td>\n",
              "      <td>0</td>\n",
              "      <td>0</td>\n",
              "      <td>0</td>\n",
              "      <td>0</td>\n",
              "      <td>0</td>\n",
              "      <td>0</td>\n",
              "      <td>0</td>\n",
              "      <td>0</td>\n",
              "      <td>0</td>\n",
              "    </tr>\n",
              "    <tr>\n",
              "      <th>318</th>\n",
              "      <td>65xVDGa0cUKpbYBxzqFGWvoA==</td>\n",
              "      <td>0</td>\n",
              "      <td>0</td>\n",
              "      <td>0</td>\n",
              "      <td>0</td>\n",
              "      <td>0</td>\n",
              "      <td>0</td>\n",
              "      <td>0</td>\n",
              "      <td>0</td>\n",
              "      <td>0</td>\n",
              "      <td>...</td>\n",
              "      <td>0</td>\n",
              "      <td>0</td>\n",
              "      <td>0</td>\n",
              "      <td>0</td>\n",
              "      <td>0</td>\n",
              "      <td>0</td>\n",
              "      <td>0</td>\n",
              "      <td>0</td>\n",
              "      <td>0</td>\n",
              "      <td>0</td>\n",
              "    </tr>\n",
              "  </tbody>\n",
              "</table>\n",
              "<p>319 rows × 864 columns</p>\n",
              "</div>\n",
              "      <button class=\"colab-df-convert\" onclick=\"convertToInteractive('df-ddfbf663-ec1b-441f-9fde-601777b5df62')\"\n",
              "              title=\"Convert this dataframe to an interactive table.\"\n",
              "              style=\"display:none;\">\n",
              "        \n",
              "  <svg xmlns=\"http://www.w3.org/2000/svg\" height=\"24px\"viewBox=\"0 0 24 24\"\n",
              "       width=\"24px\">\n",
              "    <path d=\"M0 0h24v24H0V0z\" fill=\"none\"/>\n",
              "    <path d=\"M18.56 5.44l.94 2.06.94-2.06 2.06-.94-2.06-.94-.94-2.06-.94 2.06-2.06.94zm-11 1L8.5 8.5l.94-2.06 2.06-.94-2.06-.94L8.5 2.5l-.94 2.06-2.06.94zm10 10l.94 2.06.94-2.06 2.06-.94-2.06-.94-.94-2.06-.94 2.06-2.06.94z\"/><path d=\"M17.41 7.96l-1.37-1.37c-.4-.4-.92-.59-1.43-.59-.52 0-1.04.2-1.43.59L10.3 9.45l-7.72 7.72c-.78.78-.78 2.05 0 2.83L4 21.41c.39.39.9.59 1.41.59.51 0 1.02-.2 1.41-.59l7.78-7.78 2.81-2.81c.8-.78.8-2.07 0-2.86zM5.41 20L4 18.59l7.72-7.72 1.47 1.35L5.41 20z\"/>\n",
              "  </svg>\n",
              "      </button>\n",
              "      \n",
              "  <style>\n",
              "    .colab-df-container {\n",
              "      display:flex;\n",
              "      flex-wrap:wrap;\n",
              "      gap: 12px;\n",
              "    }\n",
              "\n",
              "    .colab-df-convert {\n",
              "      background-color: #E8F0FE;\n",
              "      border: none;\n",
              "      border-radius: 50%;\n",
              "      cursor: pointer;\n",
              "      display: none;\n",
              "      fill: #1967D2;\n",
              "      height: 32px;\n",
              "      padding: 0 0 0 0;\n",
              "      width: 32px;\n",
              "    }\n",
              "\n",
              "    .colab-df-convert:hover {\n",
              "      background-color: #E2EBFA;\n",
              "      box-shadow: 0px 1px 2px rgba(60, 64, 67, 0.3), 0px 1px 3px 1px rgba(60, 64, 67, 0.15);\n",
              "      fill: #174EA6;\n",
              "    }\n",
              "\n",
              "    [theme=dark] .colab-df-convert {\n",
              "      background-color: #3B4455;\n",
              "      fill: #D2E3FC;\n",
              "    }\n",
              "\n",
              "    [theme=dark] .colab-df-convert:hover {\n",
              "      background-color: #434B5C;\n",
              "      box-shadow: 0px 1px 3px 1px rgba(0, 0, 0, 0.15);\n",
              "      filter: drop-shadow(0px 1px 2px rgba(0, 0, 0, 0.3));\n",
              "      fill: #FFFFFF;\n",
              "    }\n",
              "  </style>\n",
              "\n",
              "      <script>\n",
              "        const buttonEl =\n",
              "          document.querySelector('#df-ddfbf663-ec1b-441f-9fde-601777b5df62 button.colab-df-convert');\n",
              "        buttonEl.style.display =\n",
              "          google.colab.kernel.accessAllowed ? 'block' : 'none';\n",
              "\n",
              "        async function convertToInteractive(key) {\n",
              "          const element = document.querySelector('#df-ddfbf663-ec1b-441f-9fde-601777b5df62');\n",
              "          const dataTable =\n",
              "            await google.colab.kernel.invokeFunction('convertToInteractive',\n",
              "                                                     [key], {});\n",
              "          if (!dataTable) return;\n",
              "\n",
              "          const docLinkHtml = 'Like what you see? Visit the ' +\n",
              "            '<a target=\"_blank\" href=https://colab.research.google.com/notebooks/data_table.ipynb>data table notebook</a>'\n",
              "            + ' to learn more about interactive tables.';\n",
              "          element.innerHTML = '';\n",
              "          dataTable['output_type'] = 'display_data';\n",
              "          await google.colab.output.renderOutput(dataTable, element);\n",
              "          const docLink = document.createElement('div');\n",
              "          docLink.innerHTML = docLinkHtml;\n",
              "          element.appendChild(docLink);\n",
              "        }\n",
              "      </script>\n",
              "    </div>\n",
              "  </div>\n",
              "  "
            ]
          },
          "metadata": {},
          "execution_count": 31
        }
      ]
    },
    {
      "cell_type": "code",
      "source": [
        "import os  \n",
        "os.makedirs('folder/subfolder', exist_ok=True)  \n",
        "df_pivot_enc_all.to_csv('folder/subfolder/enc_all_isne.csv')  "
      ],
      "metadata": {
        "id": "XbVsI87UwVk9"
      },
      "execution_count": null,
      "outputs": []
    },
    {
      "cell_type": "markdown",
      "source": [
        "## ตัวอย่างข้อมูล"
      ],
      "metadata": {
        "id": "24HQ7XHSBbAg"
      }
    },
    {
      "cell_type": "code",
      "source": [
        "enc"
      ],
      "metadata": {
        "colab": {
          "base_uri": "https://localhost:8080/",
          "height": 424
        },
        "id": "ICqVbBioBQ6l",
        "outputId": "4a53a23d-af2d-4408-b84e-8c56875a4db3"
      },
      "execution_count": null,
      "outputs": [
        {
          "output_type": "execute_result",
          "data": {
            "text/plain": [
              "                      student_id  major_id  courseno grade       Item\n",
              "0     58CQz4I/hp+2pR+axA59V0lg==         8      1101     B     1101=B\n",
              "1     58CQz4I/hp+2pR+axA59V0lg==         8    206161     W   206161=W\n",
              "2     58CQz4I/hp+2pR+axA59V0lg==         8    207105    D+  207105=D+\n",
              "3     58CQz4I/hp+2pR+axA59V0lg==         8    207115     B   207115=B\n",
              "4     58CQz4I/hp+2pR+axA59V0lg==         8    259104    C+  259104=C+\n",
              "...                          ...       ...       ...   ...        ...\n",
              "8400  64ySQv2Y8KAj7z2gu1S5YM2g==         8    254182     A   254182=A\n",
              "8401  64ySQv2Y8KAj7z2gu1S5YM2g==         8    259104     B   259104=B\n",
              "8402  64ySQv2Y8KAj7z2gu1S5YM2g==         8    261102     F   261102=F\n",
              "8403  64ySQv2Y8KAj7z2gu1S5YM2g==         8    206162     D   206162=D\n",
              "8404  64ySQv2Y8KAj7z2gu1S5YM2g==         8    515101     A   515101=A\n",
              "\n",
              "[8405 rows x 5 columns]"
            ],
            "text/html": [
              "\n",
              "  <div id=\"df-9f7d8e9c-5ae9-480f-9078-e70d4cf3541f\">\n",
              "    <div class=\"colab-df-container\">\n",
              "      <div>\n",
              "<style scoped>\n",
              "    .dataframe tbody tr th:only-of-type {\n",
              "        vertical-align: middle;\n",
              "    }\n",
              "\n",
              "    .dataframe tbody tr th {\n",
              "        vertical-align: top;\n",
              "    }\n",
              "\n",
              "    .dataframe thead th {\n",
              "        text-align: right;\n",
              "    }\n",
              "</style>\n",
              "<table border=\"1\" class=\"dataframe\">\n",
              "  <thead>\n",
              "    <tr style=\"text-align: right;\">\n",
              "      <th></th>\n",
              "      <th>student_id</th>\n",
              "      <th>major_id</th>\n",
              "      <th>courseno</th>\n",
              "      <th>grade</th>\n",
              "      <th>Item</th>\n",
              "    </tr>\n",
              "  </thead>\n",
              "  <tbody>\n",
              "    <tr>\n",
              "      <th>0</th>\n",
              "      <td>58CQz4I/hp+2pR+axA59V0lg==</td>\n",
              "      <td>8</td>\n",
              "      <td>1101</td>\n",
              "      <td>B</td>\n",
              "      <td>1101=B</td>\n",
              "    </tr>\n",
              "    <tr>\n",
              "      <th>1</th>\n",
              "      <td>58CQz4I/hp+2pR+axA59V0lg==</td>\n",
              "      <td>8</td>\n",
              "      <td>206161</td>\n",
              "      <td>W</td>\n",
              "      <td>206161=W</td>\n",
              "    </tr>\n",
              "    <tr>\n",
              "      <th>2</th>\n",
              "      <td>58CQz4I/hp+2pR+axA59V0lg==</td>\n",
              "      <td>8</td>\n",
              "      <td>207105</td>\n",
              "      <td>D+</td>\n",
              "      <td>207105=D+</td>\n",
              "    </tr>\n",
              "    <tr>\n",
              "      <th>3</th>\n",
              "      <td>58CQz4I/hp+2pR+axA59V0lg==</td>\n",
              "      <td>8</td>\n",
              "      <td>207115</td>\n",
              "      <td>B</td>\n",
              "      <td>207115=B</td>\n",
              "    </tr>\n",
              "    <tr>\n",
              "      <th>4</th>\n",
              "      <td>58CQz4I/hp+2pR+axA59V0lg==</td>\n",
              "      <td>8</td>\n",
              "      <td>259104</td>\n",
              "      <td>C+</td>\n",
              "      <td>259104=C+</td>\n",
              "    </tr>\n",
              "    <tr>\n",
              "      <th>...</th>\n",
              "      <td>...</td>\n",
              "      <td>...</td>\n",
              "      <td>...</td>\n",
              "      <td>...</td>\n",
              "      <td>...</td>\n",
              "    </tr>\n",
              "    <tr>\n",
              "      <th>8400</th>\n",
              "      <td>64ySQv2Y8KAj7z2gu1S5YM2g==</td>\n",
              "      <td>8</td>\n",
              "      <td>254182</td>\n",
              "      <td>A</td>\n",
              "      <td>254182=A</td>\n",
              "    </tr>\n",
              "    <tr>\n",
              "      <th>8401</th>\n",
              "      <td>64ySQv2Y8KAj7z2gu1S5YM2g==</td>\n",
              "      <td>8</td>\n",
              "      <td>259104</td>\n",
              "      <td>B</td>\n",
              "      <td>259104=B</td>\n",
              "    </tr>\n",
              "    <tr>\n",
              "      <th>8402</th>\n",
              "      <td>64ySQv2Y8KAj7z2gu1S5YM2g==</td>\n",
              "      <td>8</td>\n",
              "      <td>261102</td>\n",
              "      <td>F</td>\n",
              "      <td>261102=F</td>\n",
              "    </tr>\n",
              "    <tr>\n",
              "      <th>8403</th>\n",
              "      <td>64ySQv2Y8KAj7z2gu1S5YM2g==</td>\n",
              "      <td>8</td>\n",
              "      <td>206162</td>\n",
              "      <td>D</td>\n",
              "      <td>206162=D</td>\n",
              "    </tr>\n",
              "    <tr>\n",
              "      <th>8404</th>\n",
              "      <td>64ySQv2Y8KAj7z2gu1S5YM2g==</td>\n",
              "      <td>8</td>\n",
              "      <td>515101</td>\n",
              "      <td>A</td>\n",
              "      <td>515101=A</td>\n",
              "    </tr>\n",
              "  </tbody>\n",
              "</table>\n",
              "<p>8405 rows × 5 columns</p>\n",
              "</div>\n",
              "      <button class=\"colab-df-convert\" onclick=\"convertToInteractive('df-9f7d8e9c-5ae9-480f-9078-e70d4cf3541f')\"\n",
              "              title=\"Convert this dataframe to an interactive table.\"\n",
              "              style=\"display:none;\">\n",
              "        \n",
              "  <svg xmlns=\"http://www.w3.org/2000/svg\" height=\"24px\"viewBox=\"0 0 24 24\"\n",
              "       width=\"24px\">\n",
              "    <path d=\"M0 0h24v24H0V0z\" fill=\"none\"/>\n",
              "    <path d=\"M18.56 5.44l.94 2.06.94-2.06 2.06-.94-2.06-.94-.94-2.06-.94 2.06-2.06.94zm-11 1L8.5 8.5l.94-2.06 2.06-.94-2.06-.94L8.5 2.5l-.94 2.06-2.06.94zm10 10l.94 2.06.94-2.06 2.06-.94-2.06-.94-.94-2.06-.94 2.06-2.06.94z\"/><path d=\"M17.41 7.96l-1.37-1.37c-.4-.4-.92-.59-1.43-.59-.52 0-1.04.2-1.43.59L10.3 9.45l-7.72 7.72c-.78.78-.78 2.05 0 2.83L4 21.41c.39.39.9.59 1.41.59.51 0 1.02-.2 1.41-.59l7.78-7.78 2.81-2.81c.8-.78.8-2.07 0-2.86zM5.41 20L4 18.59l7.72-7.72 1.47 1.35L5.41 20z\"/>\n",
              "  </svg>\n",
              "      </button>\n",
              "      \n",
              "  <style>\n",
              "    .colab-df-container {\n",
              "      display:flex;\n",
              "      flex-wrap:wrap;\n",
              "      gap: 12px;\n",
              "    }\n",
              "\n",
              "    .colab-df-convert {\n",
              "      background-color: #E8F0FE;\n",
              "      border: none;\n",
              "      border-radius: 50%;\n",
              "      cursor: pointer;\n",
              "      display: none;\n",
              "      fill: #1967D2;\n",
              "      height: 32px;\n",
              "      padding: 0 0 0 0;\n",
              "      width: 32px;\n",
              "    }\n",
              "\n",
              "    .colab-df-convert:hover {\n",
              "      background-color: #E2EBFA;\n",
              "      box-shadow: 0px 1px 2px rgba(60, 64, 67, 0.3), 0px 1px 3px 1px rgba(60, 64, 67, 0.15);\n",
              "      fill: #174EA6;\n",
              "    }\n",
              "\n",
              "    [theme=dark] .colab-df-convert {\n",
              "      background-color: #3B4455;\n",
              "      fill: #D2E3FC;\n",
              "    }\n",
              "\n",
              "    [theme=dark] .colab-df-convert:hover {\n",
              "      background-color: #434B5C;\n",
              "      box-shadow: 0px 1px 3px 1px rgba(0, 0, 0, 0.15);\n",
              "      filter: drop-shadow(0px 1px 2px rgba(0, 0, 0, 0.3));\n",
              "      fill: #FFFFFF;\n",
              "    }\n",
              "  </style>\n",
              "\n",
              "      <script>\n",
              "        const buttonEl =\n",
              "          document.querySelector('#df-9f7d8e9c-5ae9-480f-9078-e70d4cf3541f button.colab-df-convert');\n",
              "        buttonEl.style.display =\n",
              "          google.colab.kernel.accessAllowed ? 'block' : 'none';\n",
              "\n",
              "        async function convertToInteractive(key) {\n",
              "          const element = document.querySelector('#df-9f7d8e9c-5ae9-480f-9078-e70d4cf3541f');\n",
              "          const dataTable =\n",
              "            await google.colab.kernel.invokeFunction('convertToInteractive',\n",
              "                                                     [key], {});\n",
              "          if (!dataTable) return;\n",
              "\n",
              "          const docLinkHtml = 'Like what you see? Visit the ' +\n",
              "            '<a target=\"_blank\" href=https://colab.research.google.com/notebooks/data_table.ipynb>data table notebook</a>'\n",
              "            + ' to learn more about interactive tables.';\n",
              "          element.innerHTML = '';\n",
              "          dataTable['output_type'] = 'display_data';\n",
              "          await google.colab.output.renderOutput(dataTable, element);\n",
              "          const docLink = document.createElement('div');\n",
              "          docLink.innerHTML = docLinkHtml;\n",
              "          element.appendChild(docLink);\n",
              "        }\n",
              "      </script>\n",
              "    </div>\n",
              "  </div>\n",
              "  "
            ]
          },
          "metadata": {},
          "execution_count": 4
        }
      ]
    },
    {
      "cell_type": "code",
      "source": [
        "enc_grad"
      ],
      "metadata": {
        "colab": {
          "base_uri": "https://localhost:8080/",
          "height": 424
        },
        "id": "HXVDjwhgBSL_",
        "outputId": "1589b99f-199e-4ea5-d33d-ecfa5705e009"
      },
      "execution_count": null,
      "outputs": [
        {
          "output_type": "execute_result",
          "data": {
            "text/plain": [
              "                       student_id  major_id  courseno grade       Item\n",
              "0      5938H70ZvtNv/uoT3mNd0Cew==         8      1101    B+    1101=B+\n",
              "1      5938H70ZvtNv/uoT3mNd0Cew==         8    201114     B   201114=B\n",
              "2      5938H70ZvtNv/uoT3mNd0Cew==         8    206161     B   206161=B\n",
              "3      5938H70ZvtNv/uoT3mNd0Cew==         8    207105    C+  207105=C+\n",
              "4      5938H70ZvtNv/uoT3mNd0Cew==         8    207115    B+  207115=B+\n",
              "...                           ...       ...       ...   ...        ...\n",
              "10934  61sOAUKFhEHNR6/nYd2FTDxw==         8    851100     B   851100=B\n",
              "10935  61sOAUKFhEHNR6/nYd2FTDxw==         8    261208    C+  261208=C+\n",
              "10936  61sOAUKFhEHNR6/nYd2FTDxw==         8    261306     C   261306=C\n",
              "10937  61sOAUKFhEHNR6/nYd2FTDxw==         8    261449     A   261449=A\n",
              "10938  61sOAUKFhEHNR6/nYd2FTDxw==         8    261492     A   261492=A\n",
              "\n",
              "[10939 rows x 5 columns]"
            ],
            "text/html": [
              "\n",
              "  <div id=\"df-86282eb9-3b3a-4968-924e-924321785a0b\">\n",
              "    <div class=\"colab-df-container\">\n",
              "      <div>\n",
              "<style scoped>\n",
              "    .dataframe tbody tr th:only-of-type {\n",
              "        vertical-align: middle;\n",
              "    }\n",
              "\n",
              "    .dataframe tbody tr th {\n",
              "        vertical-align: top;\n",
              "    }\n",
              "\n",
              "    .dataframe thead th {\n",
              "        text-align: right;\n",
              "    }\n",
              "</style>\n",
              "<table border=\"1\" class=\"dataframe\">\n",
              "  <thead>\n",
              "    <tr style=\"text-align: right;\">\n",
              "      <th></th>\n",
              "      <th>student_id</th>\n",
              "      <th>major_id</th>\n",
              "      <th>courseno</th>\n",
              "      <th>grade</th>\n",
              "      <th>Item</th>\n",
              "    </tr>\n",
              "  </thead>\n",
              "  <tbody>\n",
              "    <tr>\n",
              "      <th>0</th>\n",
              "      <td>5938H70ZvtNv/uoT3mNd0Cew==</td>\n",
              "      <td>8</td>\n",
              "      <td>1101</td>\n",
              "      <td>B+</td>\n",
              "      <td>1101=B+</td>\n",
              "    </tr>\n",
              "    <tr>\n",
              "      <th>1</th>\n",
              "      <td>5938H70ZvtNv/uoT3mNd0Cew==</td>\n",
              "      <td>8</td>\n",
              "      <td>201114</td>\n",
              "      <td>B</td>\n",
              "      <td>201114=B</td>\n",
              "    </tr>\n",
              "    <tr>\n",
              "      <th>2</th>\n",
              "      <td>5938H70ZvtNv/uoT3mNd0Cew==</td>\n",
              "      <td>8</td>\n",
              "      <td>206161</td>\n",
              "      <td>B</td>\n",
              "      <td>206161=B</td>\n",
              "    </tr>\n",
              "    <tr>\n",
              "      <th>3</th>\n",
              "      <td>5938H70ZvtNv/uoT3mNd0Cew==</td>\n",
              "      <td>8</td>\n",
              "      <td>207105</td>\n",
              "      <td>C+</td>\n",
              "      <td>207105=C+</td>\n",
              "    </tr>\n",
              "    <tr>\n",
              "      <th>4</th>\n",
              "      <td>5938H70ZvtNv/uoT3mNd0Cew==</td>\n",
              "      <td>8</td>\n",
              "      <td>207115</td>\n",
              "      <td>B+</td>\n",
              "      <td>207115=B+</td>\n",
              "    </tr>\n",
              "    <tr>\n",
              "      <th>...</th>\n",
              "      <td>...</td>\n",
              "      <td>...</td>\n",
              "      <td>...</td>\n",
              "      <td>...</td>\n",
              "      <td>...</td>\n",
              "    </tr>\n",
              "    <tr>\n",
              "      <th>10934</th>\n",
              "      <td>61sOAUKFhEHNR6/nYd2FTDxw==</td>\n",
              "      <td>8</td>\n",
              "      <td>851100</td>\n",
              "      <td>B</td>\n",
              "      <td>851100=B</td>\n",
              "    </tr>\n",
              "    <tr>\n",
              "      <th>10935</th>\n",
              "      <td>61sOAUKFhEHNR6/nYd2FTDxw==</td>\n",
              "      <td>8</td>\n",
              "      <td>261208</td>\n",
              "      <td>C+</td>\n",
              "      <td>261208=C+</td>\n",
              "    </tr>\n",
              "    <tr>\n",
              "      <th>10936</th>\n",
              "      <td>61sOAUKFhEHNR6/nYd2FTDxw==</td>\n",
              "      <td>8</td>\n",
              "      <td>261306</td>\n",
              "      <td>C</td>\n",
              "      <td>261306=C</td>\n",
              "    </tr>\n",
              "    <tr>\n",
              "      <th>10937</th>\n",
              "      <td>61sOAUKFhEHNR6/nYd2FTDxw==</td>\n",
              "      <td>8</td>\n",
              "      <td>261449</td>\n",
              "      <td>A</td>\n",
              "      <td>261449=A</td>\n",
              "    </tr>\n",
              "    <tr>\n",
              "      <th>10938</th>\n",
              "      <td>61sOAUKFhEHNR6/nYd2FTDxw==</td>\n",
              "      <td>8</td>\n",
              "      <td>261492</td>\n",
              "      <td>A</td>\n",
              "      <td>261492=A</td>\n",
              "    </tr>\n",
              "  </tbody>\n",
              "</table>\n",
              "<p>10939 rows × 5 columns</p>\n",
              "</div>\n",
              "      <button class=\"colab-df-convert\" onclick=\"convertToInteractive('df-86282eb9-3b3a-4968-924e-924321785a0b')\"\n",
              "              title=\"Convert this dataframe to an interactive table.\"\n",
              "              style=\"display:none;\">\n",
              "        \n",
              "  <svg xmlns=\"http://www.w3.org/2000/svg\" height=\"24px\"viewBox=\"0 0 24 24\"\n",
              "       width=\"24px\">\n",
              "    <path d=\"M0 0h24v24H0V0z\" fill=\"none\"/>\n",
              "    <path d=\"M18.56 5.44l.94 2.06.94-2.06 2.06-.94-2.06-.94-.94-2.06-.94 2.06-2.06.94zm-11 1L8.5 8.5l.94-2.06 2.06-.94-2.06-.94L8.5 2.5l-.94 2.06-2.06.94zm10 10l.94 2.06.94-2.06 2.06-.94-2.06-.94-.94-2.06-.94 2.06-2.06.94z\"/><path d=\"M17.41 7.96l-1.37-1.37c-.4-.4-.92-.59-1.43-.59-.52 0-1.04.2-1.43.59L10.3 9.45l-7.72 7.72c-.78.78-.78 2.05 0 2.83L4 21.41c.39.39.9.59 1.41.59.51 0 1.02-.2 1.41-.59l7.78-7.78 2.81-2.81c.8-.78.8-2.07 0-2.86zM5.41 20L4 18.59l7.72-7.72 1.47 1.35L5.41 20z\"/>\n",
              "  </svg>\n",
              "      </button>\n",
              "      \n",
              "  <style>\n",
              "    .colab-df-container {\n",
              "      display:flex;\n",
              "      flex-wrap:wrap;\n",
              "      gap: 12px;\n",
              "    }\n",
              "\n",
              "    .colab-df-convert {\n",
              "      background-color: #E8F0FE;\n",
              "      border: none;\n",
              "      border-radius: 50%;\n",
              "      cursor: pointer;\n",
              "      display: none;\n",
              "      fill: #1967D2;\n",
              "      height: 32px;\n",
              "      padding: 0 0 0 0;\n",
              "      width: 32px;\n",
              "    }\n",
              "\n",
              "    .colab-df-convert:hover {\n",
              "      background-color: #E2EBFA;\n",
              "      box-shadow: 0px 1px 2px rgba(60, 64, 67, 0.3), 0px 1px 3px 1px rgba(60, 64, 67, 0.15);\n",
              "      fill: #174EA6;\n",
              "    }\n",
              "\n",
              "    [theme=dark] .colab-df-convert {\n",
              "      background-color: #3B4455;\n",
              "      fill: #D2E3FC;\n",
              "    }\n",
              "\n",
              "    [theme=dark] .colab-df-convert:hover {\n",
              "      background-color: #434B5C;\n",
              "      box-shadow: 0px 1px 3px 1px rgba(0, 0, 0, 0.15);\n",
              "      filter: drop-shadow(0px 1px 2px rgba(0, 0, 0, 0.3));\n",
              "      fill: #FFFFFF;\n",
              "    }\n",
              "  </style>\n",
              "\n",
              "      <script>\n",
              "        const buttonEl =\n",
              "          document.querySelector('#df-86282eb9-3b3a-4968-924e-924321785a0b button.colab-df-convert');\n",
              "        buttonEl.style.display =\n",
              "          google.colab.kernel.accessAllowed ? 'block' : 'none';\n",
              "\n",
              "        async function convertToInteractive(key) {\n",
              "          const element = document.querySelector('#df-86282eb9-3b3a-4968-924e-924321785a0b');\n",
              "          const dataTable =\n",
              "            await google.colab.kernel.invokeFunction('convertToInteractive',\n",
              "                                                     [key], {});\n",
              "          if (!dataTable) return;\n",
              "\n",
              "          const docLinkHtml = 'Like what you see? Visit the ' +\n",
              "            '<a target=\"_blank\" href=https://colab.research.google.com/notebooks/data_table.ipynb>data table notebook</a>'\n",
              "            + ' to learn more about interactive tables.';\n",
              "          element.innerHTML = '';\n",
              "          dataTable['output_type'] = 'display_data';\n",
              "          await google.colab.output.renderOutput(dataTable, element);\n",
              "          const docLink = document.createElement('div');\n",
              "          docLink.innerHTML = docLinkHtml;\n",
              "          element.appendChild(docLink);\n",
              "        }\n",
              "      </script>\n",
              "    </div>\n",
              "  </div>\n",
              "  "
            ]
          },
          "metadata": {},
          "execution_count": 5
        }
      ]
    },
    {
      "cell_type": "code",
      "source": [
        "enc_out"
      ],
      "metadata": {
        "colab": {
          "base_uri": "https://localhost:8080/",
          "height": 424
        },
        "id": "ODrc8m4kBUBX",
        "outputId": "ab9acf02-1ef1-4975-d5e6-fd681f3652dd"
      },
      "execution_count": null,
      "outputs": [
        {
          "output_type": "execute_result",
          "data": {
            "text/plain": [
              "                      student_id  major_id  courseno grade       Item\n",
              "0     59gYDM9TtQ0VCVH9FgQiu7mQ==         8    206161     W   206161=W\n",
              "1     59gYDM9TtQ0VCVH9FgQiu7mQ==         8    207105     W   207105=W\n",
              "2     59gYDM9TtQ0VCVH9FgQiu7mQ==         8    207115     W   207115=W\n",
              "3     59gYDM9TtQ0VCVH9FgQiu7mQ==         8    259104     W   259104=W\n",
              "4     59gYDM9TtQ0VCVH9FgQiu7mQ==         8    259106     W   259106=W\n",
              "...                          ...       ...       ...   ...        ...\n",
              "2183  64H69iMkc0tg8JZDIpqpNpEQ==         8    207105     F   207105=F\n",
              "2184  64H69iMkc0tg8JZDIpqpNpEQ==         8    207116     C   207116=C\n",
              "2185  64H69iMkc0tg8JZDIpqpNpEQ==         8    252281    D+  252281=D+\n",
              "2186  64H69iMkc0tg8JZDIpqpNpEQ==         8    259104     D   259104=D\n",
              "2187  64H69iMkc0tg8JZDIpqpNpEQ==         8    261102     F   261102=F\n",
              "\n",
              "[2188 rows x 5 columns]"
            ],
            "text/html": [
              "\n",
              "  <div id=\"df-d30395fb-4c64-424c-b586-5c98e26f6bfc\">\n",
              "    <div class=\"colab-df-container\">\n",
              "      <div>\n",
              "<style scoped>\n",
              "    .dataframe tbody tr th:only-of-type {\n",
              "        vertical-align: middle;\n",
              "    }\n",
              "\n",
              "    .dataframe tbody tr th {\n",
              "        vertical-align: top;\n",
              "    }\n",
              "\n",
              "    .dataframe thead th {\n",
              "        text-align: right;\n",
              "    }\n",
              "</style>\n",
              "<table border=\"1\" class=\"dataframe\">\n",
              "  <thead>\n",
              "    <tr style=\"text-align: right;\">\n",
              "      <th></th>\n",
              "      <th>student_id</th>\n",
              "      <th>major_id</th>\n",
              "      <th>courseno</th>\n",
              "      <th>grade</th>\n",
              "      <th>Item</th>\n",
              "    </tr>\n",
              "  </thead>\n",
              "  <tbody>\n",
              "    <tr>\n",
              "      <th>0</th>\n",
              "      <td>59gYDM9TtQ0VCVH9FgQiu7mQ==</td>\n",
              "      <td>8</td>\n",
              "      <td>206161</td>\n",
              "      <td>W</td>\n",
              "      <td>206161=W</td>\n",
              "    </tr>\n",
              "    <tr>\n",
              "      <th>1</th>\n",
              "      <td>59gYDM9TtQ0VCVH9FgQiu7mQ==</td>\n",
              "      <td>8</td>\n",
              "      <td>207105</td>\n",
              "      <td>W</td>\n",
              "      <td>207105=W</td>\n",
              "    </tr>\n",
              "    <tr>\n",
              "      <th>2</th>\n",
              "      <td>59gYDM9TtQ0VCVH9FgQiu7mQ==</td>\n",
              "      <td>8</td>\n",
              "      <td>207115</td>\n",
              "      <td>W</td>\n",
              "      <td>207115=W</td>\n",
              "    </tr>\n",
              "    <tr>\n",
              "      <th>3</th>\n",
              "      <td>59gYDM9TtQ0VCVH9FgQiu7mQ==</td>\n",
              "      <td>8</td>\n",
              "      <td>259104</td>\n",
              "      <td>W</td>\n",
              "      <td>259104=W</td>\n",
              "    </tr>\n",
              "    <tr>\n",
              "      <th>4</th>\n",
              "      <td>59gYDM9TtQ0VCVH9FgQiu7mQ==</td>\n",
              "      <td>8</td>\n",
              "      <td>259106</td>\n",
              "      <td>W</td>\n",
              "      <td>259106=W</td>\n",
              "    </tr>\n",
              "    <tr>\n",
              "      <th>...</th>\n",
              "      <td>...</td>\n",
              "      <td>...</td>\n",
              "      <td>...</td>\n",
              "      <td>...</td>\n",
              "      <td>...</td>\n",
              "    </tr>\n",
              "    <tr>\n",
              "      <th>2183</th>\n",
              "      <td>64H69iMkc0tg8JZDIpqpNpEQ==</td>\n",
              "      <td>8</td>\n",
              "      <td>207105</td>\n",
              "      <td>F</td>\n",
              "      <td>207105=F</td>\n",
              "    </tr>\n",
              "    <tr>\n",
              "      <th>2184</th>\n",
              "      <td>64H69iMkc0tg8JZDIpqpNpEQ==</td>\n",
              "      <td>8</td>\n",
              "      <td>207116</td>\n",
              "      <td>C</td>\n",
              "      <td>207116=C</td>\n",
              "    </tr>\n",
              "    <tr>\n",
              "      <th>2185</th>\n",
              "      <td>64H69iMkc0tg8JZDIpqpNpEQ==</td>\n",
              "      <td>8</td>\n",
              "      <td>252281</td>\n",
              "      <td>D+</td>\n",
              "      <td>252281=D+</td>\n",
              "    </tr>\n",
              "    <tr>\n",
              "      <th>2186</th>\n",
              "      <td>64H69iMkc0tg8JZDIpqpNpEQ==</td>\n",
              "      <td>8</td>\n",
              "      <td>259104</td>\n",
              "      <td>D</td>\n",
              "      <td>259104=D</td>\n",
              "    </tr>\n",
              "    <tr>\n",
              "      <th>2187</th>\n",
              "      <td>64H69iMkc0tg8JZDIpqpNpEQ==</td>\n",
              "      <td>8</td>\n",
              "      <td>261102</td>\n",
              "      <td>F</td>\n",
              "      <td>261102=F</td>\n",
              "    </tr>\n",
              "  </tbody>\n",
              "</table>\n",
              "<p>2188 rows × 5 columns</p>\n",
              "</div>\n",
              "      <button class=\"colab-df-convert\" onclick=\"convertToInteractive('df-d30395fb-4c64-424c-b586-5c98e26f6bfc')\"\n",
              "              title=\"Convert this dataframe to an interactive table.\"\n",
              "              style=\"display:none;\">\n",
              "        \n",
              "  <svg xmlns=\"http://www.w3.org/2000/svg\" height=\"24px\"viewBox=\"0 0 24 24\"\n",
              "       width=\"24px\">\n",
              "    <path d=\"M0 0h24v24H0V0z\" fill=\"none\"/>\n",
              "    <path d=\"M18.56 5.44l.94 2.06.94-2.06 2.06-.94-2.06-.94-.94-2.06-.94 2.06-2.06.94zm-11 1L8.5 8.5l.94-2.06 2.06-.94-2.06-.94L8.5 2.5l-.94 2.06-2.06.94zm10 10l.94 2.06.94-2.06 2.06-.94-2.06-.94-.94-2.06-.94 2.06-2.06.94z\"/><path d=\"M17.41 7.96l-1.37-1.37c-.4-.4-.92-.59-1.43-.59-.52 0-1.04.2-1.43.59L10.3 9.45l-7.72 7.72c-.78.78-.78 2.05 0 2.83L4 21.41c.39.39.9.59 1.41.59.51 0 1.02-.2 1.41-.59l7.78-7.78 2.81-2.81c.8-.78.8-2.07 0-2.86zM5.41 20L4 18.59l7.72-7.72 1.47 1.35L5.41 20z\"/>\n",
              "  </svg>\n",
              "      </button>\n",
              "      \n",
              "  <style>\n",
              "    .colab-df-container {\n",
              "      display:flex;\n",
              "      flex-wrap:wrap;\n",
              "      gap: 12px;\n",
              "    }\n",
              "\n",
              "    .colab-df-convert {\n",
              "      background-color: #E8F0FE;\n",
              "      border: none;\n",
              "      border-radius: 50%;\n",
              "      cursor: pointer;\n",
              "      display: none;\n",
              "      fill: #1967D2;\n",
              "      height: 32px;\n",
              "      padding: 0 0 0 0;\n",
              "      width: 32px;\n",
              "    }\n",
              "\n",
              "    .colab-df-convert:hover {\n",
              "      background-color: #E2EBFA;\n",
              "      box-shadow: 0px 1px 2px rgba(60, 64, 67, 0.3), 0px 1px 3px 1px rgba(60, 64, 67, 0.15);\n",
              "      fill: #174EA6;\n",
              "    }\n",
              "\n",
              "    [theme=dark] .colab-df-convert {\n",
              "      background-color: #3B4455;\n",
              "      fill: #D2E3FC;\n",
              "    }\n",
              "\n",
              "    [theme=dark] .colab-df-convert:hover {\n",
              "      background-color: #434B5C;\n",
              "      box-shadow: 0px 1px 3px 1px rgba(0, 0, 0, 0.15);\n",
              "      filter: drop-shadow(0px 1px 2px rgba(0, 0, 0, 0.3));\n",
              "      fill: #FFFFFF;\n",
              "    }\n",
              "  </style>\n",
              "\n",
              "      <script>\n",
              "        const buttonEl =\n",
              "          document.querySelector('#df-d30395fb-4c64-424c-b586-5c98e26f6bfc button.colab-df-convert');\n",
              "        buttonEl.style.display =\n",
              "          google.colab.kernel.accessAllowed ? 'block' : 'none';\n",
              "\n",
              "        async function convertToInteractive(key) {\n",
              "          const element = document.querySelector('#df-d30395fb-4c64-424c-b586-5c98e26f6bfc');\n",
              "          const dataTable =\n",
              "            await google.colab.kernel.invokeFunction('convertToInteractive',\n",
              "                                                     [key], {});\n",
              "          if (!dataTable) return;\n",
              "\n",
              "          const docLinkHtml = 'Like what you see? Visit the ' +\n",
              "            '<a target=\"_blank\" href=https://colab.research.google.com/notebooks/data_table.ipynb>data table notebook</a>'\n",
              "            + ' to learn more about interactive tables.';\n",
              "          element.innerHTML = '';\n",
              "          dataTable['output_type'] = 'display_data';\n",
              "          await google.colab.output.renderOutput(dataTable, element);\n",
              "          const docLink = document.createElement('div');\n",
              "          docLink.innerHTML = docLinkHtml;\n",
              "          element.appendChild(docLink);\n",
              "        }\n",
              "      </script>\n",
              "    </div>\n",
              "  </div>\n",
              "  "
            ]
          },
          "metadata": {},
          "execution_count": 6
        }
      ]
    },
    {
      "cell_type": "markdown",
      "source": [
        "## รวมไฟล์ก่อนเลย"
      ],
      "metadata": {
        "id": "9akS4Giez0s9"
      }
    },
    {
      "cell_type": "code",
      "source": [
        "all_in_one = pd.concat([ enc , enc_grad , enc_out ], ignore_index=True)"
      ],
      "metadata": {
        "id": "uNjch2hLz0W2"
      },
      "execution_count": null,
      "outputs": []
    },
    {
      "cell_type": "code",
      "source": [
        "all_in_one"
      ],
      "metadata": {
        "colab": {
          "base_uri": "https://localhost:8080/",
          "height": 424
        },
        "id": "ChVg8vW2z8o2",
        "outputId": "2b7bbe6d-49a8-46d7-f891-7bfee955903a"
      },
      "execution_count": null,
      "outputs": [
        {
          "output_type": "execute_result",
          "data": {
            "text/plain": [
              "                       student_id  major_id  courseno grade       Item\n",
              "0      58CQz4I/hp+2pR+axA59V0lg==         8      1101     B     1101=B\n",
              "1      58CQz4I/hp+2pR+axA59V0lg==         8    206161     W   206161=W\n",
              "2      58CQz4I/hp+2pR+axA59V0lg==         8    207105    D+  207105=D+\n",
              "3      58CQz4I/hp+2pR+axA59V0lg==         8    207115     B   207115=B\n",
              "4      58CQz4I/hp+2pR+axA59V0lg==         8    259104    C+  259104=C+\n",
              "...                           ...       ...       ...   ...        ...\n",
              "21527  64H69iMkc0tg8JZDIpqpNpEQ==         8    207105     F   207105=F\n",
              "21528  64H69iMkc0tg8JZDIpqpNpEQ==         8    207116     C   207116=C\n",
              "21529  64H69iMkc0tg8JZDIpqpNpEQ==         8    252281    D+  252281=D+\n",
              "21530  64H69iMkc0tg8JZDIpqpNpEQ==         8    259104     D   259104=D\n",
              "21531  64H69iMkc0tg8JZDIpqpNpEQ==         8    261102     F   261102=F\n",
              "\n",
              "[21532 rows x 5 columns]"
            ],
            "text/html": [
              "\n",
              "  <div id=\"df-8b9b3374-bb53-4e70-a060-ba42552c9a7f\">\n",
              "    <div class=\"colab-df-container\">\n",
              "      <div>\n",
              "<style scoped>\n",
              "    .dataframe tbody tr th:only-of-type {\n",
              "        vertical-align: middle;\n",
              "    }\n",
              "\n",
              "    .dataframe tbody tr th {\n",
              "        vertical-align: top;\n",
              "    }\n",
              "\n",
              "    .dataframe thead th {\n",
              "        text-align: right;\n",
              "    }\n",
              "</style>\n",
              "<table border=\"1\" class=\"dataframe\">\n",
              "  <thead>\n",
              "    <tr style=\"text-align: right;\">\n",
              "      <th></th>\n",
              "      <th>student_id</th>\n",
              "      <th>major_id</th>\n",
              "      <th>courseno</th>\n",
              "      <th>grade</th>\n",
              "      <th>Item</th>\n",
              "    </tr>\n",
              "  </thead>\n",
              "  <tbody>\n",
              "    <tr>\n",
              "      <th>0</th>\n",
              "      <td>58CQz4I/hp+2pR+axA59V0lg==</td>\n",
              "      <td>8</td>\n",
              "      <td>1101</td>\n",
              "      <td>B</td>\n",
              "      <td>1101=B</td>\n",
              "    </tr>\n",
              "    <tr>\n",
              "      <th>1</th>\n",
              "      <td>58CQz4I/hp+2pR+axA59V0lg==</td>\n",
              "      <td>8</td>\n",
              "      <td>206161</td>\n",
              "      <td>W</td>\n",
              "      <td>206161=W</td>\n",
              "    </tr>\n",
              "    <tr>\n",
              "      <th>2</th>\n",
              "      <td>58CQz4I/hp+2pR+axA59V0lg==</td>\n",
              "      <td>8</td>\n",
              "      <td>207105</td>\n",
              "      <td>D+</td>\n",
              "      <td>207105=D+</td>\n",
              "    </tr>\n",
              "    <tr>\n",
              "      <th>3</th>\n",
              "      <td>58CQz4I/hp+2pR+axA59V0lg==</td>\n",
              "      <td>8</td>\n",
              "      <td>207115</td>\n",
              "      <td>B</td>\n",
              "      <td>207115=B</td>\n",
              "    </tr>\n",
              "    <tr>\n",
              "      <th>4</th>\n",
              "      <td>58CQz4I/hp+2pR+axA59V0lg==</td>\n",
              "      <td>8</td>\n",
              "      <td>259104</td>\n",
              "      <td>C+</td>\n",
              "      <td>259104=C+</td>\n",
              "    </tr>\n",
              "    <tr>\n",
              "      <th>...</th>\n",
              "      <td>...</td>\n",
              "      <td>...</td>\n",
              "      <td>...</td>\n",
              "      <td>...</td>\n",
              "      <td>...</td>\n",
              "    </tr>\n",
              "    <tr>\n",
              "      <th>21527</th>\n",
              "      <td>64H69iMkc0tg8JZDIpqpNpEQ==</td>\n",
              "      <td>8</td>\n",
              "      <td>207105</td>\n",
              "      <td>F</td>\n",
              "      <td>207105=F</td>\n",
              "    </tr>\n",
              "    <tr>\n",
              "      <th>21528</th>\n",
              "      <td>64H69iMkc0tg8JZDIpqpNpEQ==</td>\n",
              "      <td>8</td>\n",
              "      <td>207116</td>\n",
              "      <td>C</td>\n",
              "      <td>207116=C</td>\n",
              "    </tr>\n",
              "    <tr>\n",
              "      <th>21529</th>\n",
              "      <td>64H69iMkc0tg8JZDIpqpNpEQ==</td>\n",
              "      <td>8</td>\n",
              "      <td>252281</td>\n",
              "      <td>D+</td>\n",
              "      <td>252281=D+</td>\n",
              "    </tr>\n",
              "    <tr>\n",
              "      <th>21530</th>\n",
              "      <td>64H69iMkc0tg8JZDIpqpNpEQ==</td>\n",
              "      <td>8</td>\n",
              "      <td>259104</td>\n",
              "      <td>D</td>\n",
              "      <td>259104=D</td>\n",
              "    </tr>\n",
              "    <tr>\n",
              "      <th>21531</th>\n",
              "      <td>64H69iMkc0tg8JZDIpqpNpEQ==</td>\n",
              "      <td>8</td>\n",
              "      <td>261102</td>\n",
              "      <td>F</td>\n",
              "      <td>261102=F</td>\n",
              "    </tr>\n",
              "  </tbody>\n",
              "</table>\n",
              "<p>21532 rows × 5 columns</p>\n",
              "</div>\n",
              "      <button class=\"colab-df-convert\" onclick=\"convertToInteractive('df-8b9b3374-bb53-4e70-a060-ba42552c9a7f')\"\n",
              "              title=\"Convert this dataframe to an interactive table.\"\n",
              "              style=\"display:none;\">\n",
              "        \n",
              "  <svg xmlns=\"http://www.w3.org/2000/svg\" height=\"24px\"viewBox=\"0 0 24 24\"\n",
              "       width=\"24px\">\n",
              "    <path d=\"M0 0h24v24H0V0z\" fill=\"none\"/>\n",
              "    <path d=\"M18.56 5.44l.94 2.06.94-2.06 2.06-.94-2.06-.94-.94-2.06-.94 2.06-2.06.94zm-11 1L8.5 8.5l.94-2.06 2.06-.94-2.06-.94L8.5 2.5l-.94 2.06-2.06.94zm10 10l.94 2.06.94-2.06 2.06-.94-2.06-.94-.94-2.06-.94 2.06-2.06.94z\"/><path d=\"M17.41 7.96l-1.37-1.37c-.4-.4-.92-.59-1.43-.59-.52 0-1.04.2-1.43.59L10.3 9.45l-7.72 7.72c-.78.78-.78 2.05 0 2.83L4 21.41c.39.39.9.59 1.41.59.51 0 1.02-.2 1.41-.59l7.78-7.78 2.81-2.81c.8-.78.8-2.07 0-2.86zM5.41 20L4 18.59l7.72-7.72 1.47 1.35L5.41 20z\"/>\n",
              "  </svg>\n",
              "      </button>\n",
              "      \n",
              "  <style>\n",
              "    .colab-df-container {\n",
              "      display:flex;\n",
              "      flex-wrap:wrap;\n",
              "      gap: 12px;\n",
              "    }\n",
              "\n",
              "    .colab-df-convert {\n",
              "      background-color: #E8F0FE;\n",
              "      border: none;\n",
              "      border-radius: 50%;\n",
              "      cursor: pointer;\n",
              "      display: none;\n",
              "      fill: #1967D2;\n",
              "      height: 32px;\n",
              "      padding: 0 0 0 0;\n",
              "      width: 32px;\n",
              "    }\n",
              "\n",
              "    .colab-df-convert:hover {\n",
              "      background-color: #E2EBFA;\n",
              "      box-shadow: 0px 1px 2px rgba(60, 64, 67, 0.3), 0px 1px 3px 1px rgba(60, 64, 67, 0.15);\n",
              "      fill: #174EA6;\n",
              "    }\n",
              "\n",
              "    [theme=dark] .colab-df-convert {\n",
              "      background-color: #3B4455;\n",
              "      fill: #D2E3FC;\n",
              "    }\n",
              "\n",
              "    [theme=dark] .colab-df-convert:hover {\n",
              "      background-color: #434B5C;\n",
              "      box-shadow: 0px 1px 3px 1px rgba(0, 0, 0, 0.15);\n",
              "      filter: drop-shadow(0px 1px 2px rgba(0, 0, 0, 0.3));\n",
              "      fill: #FFFFFF;\n",
              "    }\n",
              "  </style>\n",
              "\n",
              "      <script>\n",
              "        const buttonEl =\n",
              "          document.querySelector('#df-8b9b3374-bb53-4e70-a060-ba42552c9a7f button.colab-df-convert');\n",
              "        buttonEl.style.display =\n",
              "          google.colab.kernel.accessAllowed ? 'block' : 'none';\n",
              "\n",
              "        async function convertToInteractive(key) {\n",
              "          const element = document.querySelector('#df-8b9b3374-bb53-4e70-a060-ba42552c9a7f');\n",
              "          const dataTable =\n",
              "            await google.colab.kernel.invokeFunction('convertToInteractive',\n",
              "                                                     [key], {});\n",
              "          if (!dataTable) return;\n",
              "\n",
              "          const docLinkHtml = 'Like what you see? Visit the ' +\n",
              "            '<a target=\"_blank\" href=https://colab.research.google.com/notebooks/data_table.ipynb>data table notebook</a>'\n",
              "            + ' to learn more about interactive tables.';\n",
              "          element.innerHTML = '';\n",
              "          dataTable['output_type'] = 'display_data';\n",
              "          await google.colab.output.renderOutput(dataTable, element);\n",
              "          const docLink = document.createElement('div');\n",
              "          docLink.innerHTML = docLinkHtml;\n",
              "          element.appendChild(docLink);\n",
              "        }\n",
              "      </script>\n",
              "    </div>\n",
              "  </div>\n",
              "  "
            ]
          },
          "metadata": {},
          "execution_count": 6
        }
      ]
    },
    {
      "cell_type": "code",
      "source": [
        "df_replace= all_in_one.replace(['A','B+','B','C+','C','D+','D','W','F'],[1,1,1,1,1,1,1,1,1])\n",
        "df_pivot_enc_all = pd.pivot_table(df_replace, \n",
        "                            index = ['student_id'],\n",
        "                            columns=['Item'], \n",
        "                            values='grade',\n",
        "                            fill_value=0).reset_index()"
      ],
      "metadata": {
        "id": "cBrtCKKr0gAc"
      },
      "execution_count": null,
      "outputs": []
    },
    {
      "cell_type": "code",
      "source": [
        "df_pivot_enc_all"
      ],
      "metadata": {
        "id": "IBHuFgE10oyV"
      },
      "execution_count": null,
      "outputs": []
    },
    {
      "cell_type": "code",
      "source": [
        "import os  \n",
        "os.makedirs('folder/subfolder', exist_ok=True)  \n",
        "df_pivot_enc_all.to_csv('folder/subfolder/enc_all.csv')  "
      ],
      "metadata": {
        "id": "Bc2TFmvl03II"
      },
      "execution_count": null,
      "outputs": []
    }
  ]
}